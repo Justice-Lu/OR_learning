{
 "cells": [
  {
   "cell_type": "code",
   "execution_count": 1,
   "metadata": {},
   "outputs": [],
   "source": [
    "import numpy as np \n",
    "import pandas as pd \n",
    "import os \n",
    "\n",
    "from scipy.spatial import cKDTree\n",
    "from scipy.ndimage import binary_erosion\n",
    "from Bio.PDB import PDBParser"
   ]
  },
  {
   "cell_type": "code",
   "execution_count": 2,
   "metadata": {},
   "outputs": [],
   "source": [
    "from numba import njit\n",
    "import voxel_array\n",
    "import npose_util as nu\n",
    "\n",
    "from scipy.spatial import ConvexHull\n",
    "from scipy.spatial import Delaunay\n"
   ]
  },
  {
   "cell_type": "code",
   "execution_count": 3,
   "metadata": {},
   "outputs": [],
   "source": [
    "from npose_util import *\n"
   ]
  },
  {
   "cell_type": "code",
   "execution_count": 4,
   "metadata": {},
   "outputs": [],
   "source": [
    "npose = nu.npose_from_file_fast('../../AF_files/OR_AF_pdb/Olfr1/ranked_0.pdb')"
   ]
  },
  {
   "cell_type": "code",
   "execution_count": 5,
   "metadata": {},
   "outputs": [
    {
     "name": "stdout",
     "output_type": "stream",
     "text": [
      "314\n",
      "(1570, 4)\n"
     ]
    }
   ],
   "source": [
    "print(nu.nsize(npose))\n",
    "print(npose.shape)"
   ]
  },
  {
   "cell_type": "code",
   "execution_count": 6,
   "metadata": {},
   "outputs": [
    {
     "data": {
      "text/plain": [
       "array([[ 27.385,  31.892, -22.892,   1.   ],\n",
       "       [ 26.389,  30.982, -22.293,   1.   ],\n",
       "       [ 24.999,  31.643, -22.254,   1.   ],\n",
       "       ...,\n",
       "       [-28.35 , -29.689,  -6.789,   1.   ],\n",
       "       [-27.739, -30.498,  -9.127,   1.   ],\n",
       "       [-28.651, -31.05 ,  -9.777,   1.   ]])"
      ]
     },
     "execution_count": 6,
     "metadata": {},
     "output_type": "execute_result"
    }
   ],
   "source": [
    "npose"
   ]
  },
  {
   "cell_type": "code",
   "execution_count": 7,
   "metadata": {},
   "outputs": [],
   "source": [
    "atom_size = 2.2\n",
    "shell_thickness = 0.01\n",
    "padding = 7.0\n",
    "resl = 0.5\n"
   ]
  },
  {
   "cell_type": "code",
   "execution_count": 8,
   "metadata": {},
   "outputs": [
    {
     "ename": "TypingError",
     "evalue": "Failed in nopython mode pipeline (step: nopython frontend)\nFailed in nopython mode pipeline (step: nopython frontend)\nFailed in nopython mode pipeline (step: nopython frontend)\nFailed in nopython mode pipeline (step: nopython frontend)\nFailed in nopython mode pipeline (step: nopython frontend)\nInternal error at resolving type of attribute \"int\" of \"$2load_global.0\".\nmodule 'numpy' has no attribute 'int'.\n`np.int` was a deprecated alias for the builtin `int`. To avoid this error in existing code, use `int` by itself. Doing this will not modify any behavior and is safe. When replacing `np.int`, you may wish to use e.g. `np.int64` or `np.int32` to specify the precision. If you wish to review your current use, check the release note link for additional information.\nThe aliases was originally deprecated in NumPy 1.20; for more details and guidance see the original release note at:\n    https://numpy.org/devdocs/release/1.20.0-notes.html#deprecations\nDuring: typing of get attribute at /home/hl307@dhe.duke.edu/miniconda3/envs/Protein_env/lib/python3.10/site-packages/voxel_array/voxel_array.py (539)\nEnable logging at debug level for details.\n\nFile \"../../../../../home/hl307@dhe.duke.edu/miniconda3/envs/Protein_env/lib/python3.10/site-packages/voxel_array/voxel_array.py\", line 539:\ndef xform_1_pt(pt, lb, cs, shape):\n    x = np.int( ( pt - lb ) / cs )\n    ^\n\nDuring: resolving callee type: type(CPUDispatcher(<function xform_1_pt at 0x7f17ec6465f0>))\nDuring: typing of call at /home/hl307@dhe.duke.edu/miniconda3/envs/Protein_env/lib/python3.10/site-packages/voxel_array/voxel_array.py (527)\n\nDuring: resolving callee type: type(CPUDispatcher(<function xform_1_pt at 0x7f17ec6465f0>))\nDuring: typing of call at /home/hl307@dhe.duke.edu/miniconda3/envs/Protein_env/lib/python3.10/site-packages/voxel_array/voxel_array.py (527)\n\n\nFile \"../../../../../home/hl307@dhe.duke.edu/miniconda3/envs/Protein_env/lib/python3.10/site-packages/voxel_array/voxel_array.py\", line 527:\ndef xform_vectors_w_out(vecs, lb, cs, shape, out):\n    <source elided>\n        for j in range(len(lb)):\n            out[i, j] = xform_1_pt(vecs[i, j], lb[j], cs[j], shape[j])\n            ^\n\nDuring: resolving callee type: type(CPUDispatcher(<function xform_vectors_w_out at 0x7f17ec646290>))\nDuring: typing of call at /home/hl307@dhe.duke.edu/miniconda3/envs/Protein_env/lib/python3.10/site-packages/voxel_array/voxel_array.py (521)\n\nDuring: resolving callee type: type(CPUDispatcher(<function xform_vectors_w_out at 0x7f17ec646290>))\nDuring: typing of call at /home/hl307@dhe.duke.edu/miniconda3/envs/Protein_env/lib/python3.10/site-packages/voxel_array/voxel_array.py (521)\n\n\nFile \"../../../../../home/hl307@dhe.duke.edu/miniconda3/envs/Protein_env/lib/python3.10/site-packages/voxel_array/voxel_array.py\", line 521:\ndef xform_vectors(vecs, lb, cs, shape):\n    <source elided>\n    out = np.zeros((len(vecs), len(lb)), dtype=np.int_)\n    return xform_vectors_w_out(vecs, lb, cs, shape, out)\n    ^\n\nDuring: resolving callee type: type(CPUDispatcher(<function xform_vectors at 0x7f17ec6460e0>))\nDuring: typing of call at /home/hl307@dhe.duke.edu/miniconda3/envs/Protein_env/lib/python3.10/site-packages/voxel_array/voxel_array.py (474)\n\nDuring: resolving callee type: type(CPUDispatcher(<function xform_vectors at 0x7f17ec6460e0>))\nDuring: typing of call at /home/hl307@dhe.duke.edu/miniconda3/envs/Protein_env/lib/python3.10/site-packages/voxel_array/voxel_array.py (474)\n\n\nFile \"../../../../../home/hl307@dhe.duke.edu/miniconda3/envs/Protein_env/lib/python3.10/site-packages/voxel_array/voxel_array.py\", line 474:\ndef numba_indices_store_within_x_of(arr, to_store, _x, pt, lb, ub, cs, shape):\n    <source elided>\n    # transform bounds into upper and lower corners in voxel array indices\n    bounds = xform_vectors( low_high, lb, cs, shape )\n    ^\n\nDuring: resolving callee type: type(CPUDispatcher(<function numba_indices_store_within_x_of at 0x7f17ec645a20>))\nDuring: typing of call at /home/hl307@dhe.duke.edu/miniconda3/envs/Protein_env/lib/python3.10/site-packages/voxel_array/voxel_array.py (448)\n\nDuring: resolving callee type: type(CPUDispatcher(<function numba_indices_store_within_x_of at 0x7f17ec645a20>))\nDuring: typing of call at /home/hl307@dhe.duke.edu/miniconda3/envs/Protein_env/lib/python3.10/site-packages/voxel_array/voxel_array.py (448)\n\n\nFile \"../../../../../home/hl307@dhe.duke.edu/miniconda3/envs/Protein_env/lib/python3.10/site-packages/voxel_array/voxel_array.py\", line 448:\ndef numba_make_clashgrid(pts, atom_radius, arr, lb, ub, cs, shape, store_val):\n    <source elided>\n        pt = pts[i]\n        numba_indices_store_within_x_of(arr, store_val, atom_radius*2, pt, lb, ub, cs, shape)\n        ^\n",
     "output_type": "error",
     "traceback": [
      "\u001b[0;31m---------------------------------------------------------------------------\u001b[0m",
      "\u001b[0;31mTypingError\u001b[0m                               Traceback (most recent call last)",
      "\u001b[1;32m/mnt/af3ff5c3-2943-4972-8c3a-6b98174779b7/Justice/OR_learning/notebooks/binding_cavity_notebook.ipynb Cell 8\u001b[0m in \u001b[0;36m1\n\u001b[0;32m----> <a href='vscode-notebook-cell://ssh-remote%2Bmgm-gpu/mnt/af3ff5c3-2943-4972-8c3a-6b98174779b7/Justice/OR_learning/notebooks/binding_cavity_notebook.ipynb#X16sdnNjb2RlLXJlbW90ZQ%3D%3D?line=0'>1</a>\u001b[0m clash_grid \u001b[39m=\u001b[39m nu\u001b[39m.\u001b[39;49mca_clashgrid_from_npose(npose, atom_size, resl, padding\u001b[39m=\u001b[39;49m\u001b[39m3\u001b[39;49m)\n",
      "File \u001b[0;32m~/miniconda3/envs/Protein_env/lib/python3.10/site-packages/npose_util/npose_util.py:973\u001b[0m, in \u001b[0;36mca_clashgrid_from_npose\u001b[0;34m(npose, atom_size, resl, padding)\u001b[0m\n\u001b[1;32m    972\u001b[0m \u001b[39mdef\u001b[39;00m \u001b[39mca_clashgrid_from_npose\u001b[39m(npose, atom_size, resl, padding\u001b[39m=\u001b[39m\u001b[39m0\u001b[39m):\n\u001b[0;32m--> 973\u001b[0m     \u001b[39mreturn\u001b[39;00m clashgrid_from_points( extract_CA(npose), atom_size, resl, padding)\n",
      "File \u001b[0;32m~/miniconda3/envs/Protein_env/lib/python3.10/site-packages/npose_util/npose_util.py:989\u001b[0m, in \u001b[0;36mclashgrid_from_points\u001b[0;34m(points, atom_size, resl, padding, low_high)\u001b[0m\n\u001b[1;32m    985\u001b[0m     low, high \u001b[39m=\u001b[39m low_high\n\u001b[1;32m    987\u001b[0m clashgrid \u001b[39m=\u001b[39m voxel_array\u001b[39m.\u001b[39mVoxelArray(low, high, np\u001b[39m.\u001b[39marray([resl]\u001b[39m*\u001b[39m\u001b[39m3\u001b[39m), \u001b[39mbool\u001b[39m)\n\u001b[0;32m--> 989\u001b[0m clashgrid\u001b[39m.\u001b[39;49madd_to_clashgrid(points, atom_size)\n\u001b[1;32m    990\u001b[0m \u001b[39m# for pt in points:\u001b[39;00m\n\u001b[1;32m    991\u001b[0m \u001b[39m#     inds = clashgrid.indices_within_x_of(atom_size*2, pt)\u001b[39;00m\n\u001b[1;32m    992\u001b[0m \u001b[39m#     clashgrid.arr[tuple(inds.T)] = True\u001b[39;00m\n\u001b[1;32m    994\u001b[0m \u001b[39mreturn\u001b[39;00m clashgrid\n",
      "File \u001b[0;32m~/miniconda3/envs/Protein_env/lib/python3.10/site-packages/voxel_array/voxel_array.py:251\u001b[0m, in \u001b[0;36mVoxelArray.add_to_clashgrid\u001b[0;34m(self, pts, atom_radius, store_val)\u001b[0m\n\u001b[1;32m    249\u001b[0m     numba_make_clashgrid_var_atom_radius(pts, atom_radius, \u001b[39mself\u001b[39m\u001b[39m.\u001b[39marr, \u001b[39mself\u001b[39m\u001b[39m.\u001b[39mlb, \u001b[39mself\u001b[39m\u001b[39m.\u001b[39mub, \u001b[39mself\u001b[39m\u001b[39m.\u001b[39mcs, \u001b[39mself\u001b[39m\u001b[39m.\u001b[39marr\u001b[39m.\u001b[39mshape, store_val)\n\u001b[1;32m    250\u001b[0m \u001b[39melse\u001b[39;00m:\n\u001b[0;32m--> 251\u001b[0m     numba_make_clashgrid(pts, atom_radius, \u001b[39mself\u001b[39;49m\u001b[39m.\u001b[39;49marr, \u001b[39mself\u001b[39;49m\u001b[39m.\u001b[39;49mlb, \u001b[39mself\u001b[39;49m\u001b[39m.\u001b[39;49mub, \u001b[39mself\u001b[39;49m\u001b[39m.\u001b[39;49mcs, \u001b[39mself\u001b[39;49m\u001b[39m.\u001b[39;49marr\u001b[39m.\u001b[39;49mshape, store_val)\n",
      "File \u001b[0;32m~/miniconda3/envs/Protein_env/lib/python3.10/site-packages/numba/core/dispatcher.py:468\u001b[0m, in \u001b[0;36m_DispatcherBase._compile_for_args\u001b[0;34m(self, *args, **kws)\u001b[0m\n\u001b[1;32m    464\u001b[0m         msg \u001b[39m=\u001b[39m (\u001b[39mf\u001b[39m\u001b[39m\"\u001b[39m\u001b[39m{\u001b[39;00m\u001b[39mstr\u001b[39m(e)\u001b[39m.\u001b[39mrstrip()\u001b[39m}\u001b[39;00m\u001b[39m \u001b[39m\u001b[39m\\n\u001b[39;00m\u001b[39m\\n\u001b[39;00m\u001b[39mThis error may have been caused \u001b[39m\u001b[39m\"\u001b[39m\n\u001b[1;32m    465\u001b[0m                \u001b[39mf\u001b[39m\u001b[39m\"\u001b[39m\u001b[39mby the following argument(s):\u001b[39m\u001b[39m\\n\u001b[39;00m\u001b[39m{\u001b[39;00margs_str\u001b[39m}\u001b[39;00m\u001b[39m\\n\u001b[39;00m\u001b[39m\"\u001b[39m)\n\u001b[1;32m    466\u001b[0m         e\u001b[39m.\u001b[39mpatch_message(msg)\n\u001b[0;32m--> 468\u001b[0m     error_rewrite(e, \u001b[39m'\u001b[39;49m\u001b[39mtyping\u001b[39;49m\u001b[39m'\u001b[39;49m)\n\u001b[1;32m    469\u001b[0m \u001b[39mexcept\u001b[39;00m errors\u001b[39m.\u001b[39mUnsupportedError \u001b[39mas\u001b[39;00m e:\n\u001b[1;32m    470\u001b[0m     \u001b[39m# Something unsupported is present in the user code, add help info\u001b[39;00m\n\u001b[1;32m    471\u001b[0m     error_rewrite(e, \u001b[39m'\u001b[39m\u001b[39munsupported_error\u001b[39m\u001b[39m'\u001b[39m)\n",
      "File \u001b[0;32m~/miniconda3/envs/Protein_env/lib/python3.10/site-packages/numba/core/dispatcher.py:409\u001b[0m, in \u001b[0;36m_DispatcherBase._compile_for_args.<locals>.error_rewrite\u001b[0;34m(e, issue_type)\u001b[0m\n\u001b[1;32m    407\u001b[0m     \u001b[39mraise\u001b[39;00m e\n\u001b[1;32m    408\u001b[0m \u001b[39melse\u001b[39;00m:\n\u001b[0;32m--> 409\u001b[0m     \u001b[39mraise\u001b[39;00m e\u001b[39m.\u001b[39mwith_traceback(\u001b[39mNone\u001b[39;00m)\n",
      "\u001b[0;31mTypingError\u001b[0m: Failed in nopython mode pipeline (step: nopython frontend)\nFailed in nopython mode pipeline (step: nopython frontend)\nFailed in nopython mode pipeline (step: nopython frontend)\nFailed in nopython mode pipeline (step: nopython frontend)\nFailed in nopython mode pipeline (step: nopython frontend)\nInternal error at resolving type of attribute \"int\" of \"$2load_global.0\".\nmodule 'numpy' has no attribute 'int'.\n`np.int` was a deprecated alias for the builtin `int`. To avoid this error in existing code, use `int` by itself. Doing this will not modify any behavior and is safe. When replacing `np.int`, you may wish to use e.g. `np.int64` or `np.int32` to specify the precision. If you wish to review your current use, check the release note link for additional information.\nThe aliases was originally deprecated in NumPy 1.20; for more details and guidance see the original release note at:\n    https://numpy.org/devdocs/release/1.20.0-notes.html#deprecations\nDuring: typing of get attribute at /home/hl307@dhe.duke.edu/miniconda3/envs/Protein_env/lib/python3.10/site-packages/voxel_array/voxel_array.py (539)\nEnable logging at debug level for details.\n\nFile \"../../../../../home/hl307@dhe.duke.edu/miniconda3/envs/Protein_env/lib/python3.10/site-packages/voxel_array/voxel_array.py\", line 539:\ndef xform_1_pt(pt, lb, cs, shape):\n    x = np.int( ( pt - lb ) / cs )\n    ^\n\nDuring: resolving callee type: type(CPUDispatcher(<function xform_1_pt at 0x7f17ec6465f0>))\nDuring: typing of call at /home/hl307@dhe.duke.edu/miniconda3/envs/Protein_env/lib/python3.10/site-packages/voxel_array/voxel_array.py (527)\n\nDuring: resolving callee type: type(CPUDispatcher(<function xform_1_pt at 0x7f17ec6465f0>))\nDuring: typing of call at /home/hl307@dhe.duke.edu/miniconda3/envs/Protein_env/lib/python3.10/site-packages/voxel_array/voxel_array.py (527)\n\n\nFile \"../../../../../home/hl307@dhe.duke.edu/miniconda3/envs/Protein_env/lib/python3.10/site-packages/voxel_array/voxel_array.py\", line 527:\ndef xform_vectors_w_out(vecs, lb, cs, shape, out):\n    <source elided>\n        for j in range(len(lb)):\n            out[i, j] = xform_1_pt(vecs[i, j], lb[j], cs[j], shape[j])\n            ^\n\nDuring: resolving callee type: type(CPUDispatcher(<function xform_vectors_w_out at 0x7f17ec646290>))\nDuring: typing of call at /home/hl307@dhe.duke.edu/miniconda3/envs/Protein_env/lib/python3.10/site-packages/voxel_array/voxel_array.py (521)\n\nDuring: resolving callee type: type(CPUDispatcher(<function xform_vectors_w_out at 0x7f17ec646290>))\nDuring: typing of call at /home/hl307@dhe.duke.edu/miniconda3/envs/Protein_env/lib/python3.10/site-packages/voxel_array/voxel_array.py (521)\n\n\nFile \"../../../../../home/hl307@dhe.duke.edu/miniconda3/envs/Protein_env/lib/python3.10/site-packages/voxel_array/voxel_array.py\", line 521:\ndef xform_vectors(vecs, lb, cs, shape):\n    <source elided>\n    out = np.zeros((len(vecs), len(lb)), dtype=np.int_)\n    return xform_vectors_w_out(vecs, lb, cs, shape, out)\n    ^\n\nDuring: resolving callee type: type(CPUDispatcher(<function xform_vectors at 0x7f17ec6460e0>))\nDuring: typing of call at /home/hl307@dhe.duke.edu/miniconda3/envs/Protein_env/lib/python3.10/site-packages/voxel_array/voxel_array.py (474)\n\nDuring: resolving callee type: type(CPUDispatcher(<function xform_vectors at 0x7f17ec6460e0>))\nDuring: typing of call at /home/hl307@dhe.duke.edu/miniconda3/envs/Protein_env/lib/python3.10/site-packages/voxel_array/voxel_array.py (474)\n\n\nFile \"../../../../../home/hl307@dhe.duke.edu/miniconda3/envs/Protein_env/lib/python3.10/site-packages/voxel_array/voxel_array.py\", line 474:\ndef numba_indices_store_within_x_of(arr, to_store, _x, pt, lb, ub, cs, shape):\n    <source elided>\n    # transform bounds into upper and lower corners in voxel array indices\n    bounds = xform_vectors( low_high, lb, cs, shape )\n    ^\n\nDuring: resolving callee type: type(CPUDispatcher(<function numba_indices_store_within_x_of at 0x7f17ec645a20>))\nDuring: typing of call at /home/hl307@dhe.duke.edu/miniconda3/envs/Protein_env/lib/python3.10/site-packages/voxel_array/voxel_array.py (448)\n\nDuring: resolving callee type: type(CPUDispatcher(<function numba_indices_store_within_x_of at 0x7f17ec645a20>))\nDuring: typing of call at /home/hl307@dhe.duke.edu/miniconda3/envs/Protein_env/lib/python3.10/site-packages/voxel_array/voxel_array.py (448)\n\n\nFile \"../../../../../home/hl307@dhe.duke.edu/miniconda3/envs/Protein_env/lib/python3.10/site-packages/voxel_array/voxel_array.py\", line 448:\ndef numba_make_clashgrid(pts, atom_radius, arr, lb, ub, cs, shape, store_val):\n    <source elided>\n        pt = pts[i]\n        numba_indices_store_within_x_of(arr, store_val, atom_radius*2, pt, lb, ub, cs, shape)\n        ^\n"
     ]
    }
   ],
   "source": [
    "clash_grid = nu.ca_clashgrid_from_npose(npose, atom_size, resl, padding=3) #padding=3\n"
   ]
  },
  {
   "cell_type": "code",
   "execution_count": null,
   "metadata": {},
   "outputs": [],
   "source": []
  },
  {
   "cell_type": "code",
   "execution_count": null,
   "metadata": {},
   "outputs": [],
   "source": []
  },
  {
   "cell_type": "code",
   "execution_count": null,
   "metadata": {},
   "outputs": [],
   "source": []
  }
 ],
 "metadata": {
  "kernelspec": {
   "display_name": "Protein_env",
   "language": "python",
   "name": "python3"
  },
  "language_info": {
   "codemirror_mode": {
    "name": "ipython",
    "version": 3
   },
   "file_extension": ".py",
   "mimetype": "text/x-python",
   "name": "python",
   "nbconvert_exporter": "python",
   "pygments_lexer": "ipython3",
   "version": "3.10.6"
  },
  "orig_nbformat": 4
 },
 "nbformat": 4,
 "nbformat_minor": 2
}
