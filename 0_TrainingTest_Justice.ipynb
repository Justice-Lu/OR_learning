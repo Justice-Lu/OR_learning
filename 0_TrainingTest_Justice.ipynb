{
 "cells": [
  {
   "cell_type": "markdown",
   "id": "2cec4aee",
   "metadata": {},
   "source": [
    "#Imports\n",
    "import numpy as np \n",
    "import pandas as pd \n",
    "import FixedClassificationModel_JL as FixedClassificationModel\n",
    "import Globals_JL as Globals\n",
    "import CombineLigandsProteins_JL as CombineLigandsProteins"
   ]
  },
  {
   "cell_type": "code",
   "execution_count": 2,
   "id": "32a2e316",
   "metadata": {},
   "outputs": [],
   "source": [
    "import Protein_Input_funcions as pif\n",
    "import ReadingFasta_JL as ReadingFasta"
   ]
  },
  {
   "cell_type": "code",
   "execution_count": 26,
   "id": "bf1aa358",
   "metadata": {},
   "outputs": [
    {
     "data": {
      "text/plain": [
       "<module 'FixedClassificationModel_JL' from '/mnt/af3ff5c3-2943-4972-8c3a-6b98174779b7/Justice/Chaperone_Analysis/OR_ML/Rtp1s_RF/FixedClassificationModel_JL.py'>"
      ]
     },
     "execution_count": 26,
     "metadata": {},
     "output_type": "execute_result"
    }
   ],
   "source": [
    "import importlib \n",
    "importlib.reload(CombineLigandsProteins)\n",
    "importlib.reload(FixedClassificationModel)"
   ]
  },
  {
   "cell_type": "code",
   "execution_count": null,
   "id": "79a22e65",
   "metadata": {},
   "outputs": [],
   "source": [
    "\"\"\"\n",
    "The goal of this notebook is to test if we can build a RF model to predict \n",
    "weather an OR will be enhanced by Rtp1s or not \n",
    "\n",
    "input should simply be OR sequence with supervised enhance or not enhance \n",
    "\"\"\""
   ]
  },
  {
   "cell_type": "code",
   "execution_count": null,
   "id": "7cbf0c44",
   "metadata": {},
   "outputs": [],
   "source": [
    "\"\"\"\n",
    "From here intend to adapt the pipeline built for aa_3di_smile + ligand \n",
    "for aa + rtp1s \n",
    "\"\"\""
   ]
  },
  {
   "cell_type": "code",
   "execution_count": 5,
   "id": "b48f3917",
   "metadata": {},
   "outputs": [],
   "source": [
    "TM_location = \"./Temp_TM/TM.csv\"\n",
    "Di_location = \"../data_files/3DiSequences/fullset_ss.fasta\"\n",
    "smile_location = \"../Ligands_withSMILE/ligand_SMILES.csv\"\n",
    "experimental_results = \"../input_results/\"\n",
    "accession_to_ensemble = \"../ensemble_to_accession.csv\"\n",
    "\n",
    "OR_Rtp_dependency = pd.read_csv('./OR_RTP_dependency.csv')\n",
    "sup_out = OR_Rtp_dependency[['accession number', 'enhance']]"
   ]
  },
  {
   "cell_type": "code",
   "execution_count": 27,
   "id": "15c88e12",
   "metadata": {},
   "outputs": [
    {
     "name": "stdout",
     "output_type": "stream",
     "text": [
      "Pos Observations: 24\n",
      "Neg Observations: 20\n"
     ]
    }
   ],
   "source": [
    "# Generating matix for training \n",
    "matrix = CombineLigandsProteins.features_matrix(TM_location, \n",
    "                                                Di_location, \n",
    "                                                accession_to_ensemble, \n",
    "                                                sup_out)"
   ]
  },
  {
   "cell_type": "code",
   "execution_count": 28,
   "id": "d79cfaa7",
   "metadata": {},
   "outputs": [],
   "source": [
    "testX = matrix['X']\n",
    "testY = matrix['Y']\n",
    "BALANCE = matrix['balance']"
   ]
  },
  {
   "cell_type": "code",
   "execution_count": 29,
   "id": "cb4b2ce4",
   "metadata": {
    "scrolled": true
   },
   "outputs": [
    {
     "name": "stdout",
     "output_type": "stream",
     "text": [
      "run 0 accuracy: 0.5\n",
      "run 1 accuracy: 0.5104166666666666\n",
      "run 2 accuracy: 0.44791666666666663\n",
      "run 3 accuracy: 0.4270833333333333\n",
      "run 4 accuracy: 0.5520833333333334\n",
      "run 5 accuracy: 0.43749999999999994\n",
      "run 6 accuracy: 0.5\n",
      "run 7 accuracy: 0.6222222222222222\n",
      "run 8 accuracy: 0.5729166666666667\n",
      "run 9 accuracy: 0.5888888888888889\n",
      "run 10 accuracy: 0.5888888888888889\n",
      "run 11 accuracy: 0.40625\n",
      "run 12 accuracy: 0.29591836734693877\n",
      "run 13 accuracy: 0.4375\n",
      "run 14 accuracy: 0.5111111111111111\n",
      "run 15 accuracy: 0.41836734693877553\n",
      "run 16 accuracy: 0.5104166666666667\n",
      "run 17 accuracy: 0.46875\n",
      "run 18 accuracy: 0.5510204081632653\n",
      "run 19 accuracy: 0.21111111111111108\n",
      "run 20 accuracy: 0.7708333333333334\n",
      "run 21 accuracy: 0.5777777777777777\n",
      "run 22 accuracy: 0.5520833333333334\n",
      "run 23 accuracy: 0.42222222222222217\n",
      "run 24 accuracy: 0.34375\n",
      "run 25 accuracy: 0.7755102040816326\n",
      "run 26 accuracy: 0.5666666666666667\n",
      "run 27 accuracy: 0.5888888888888888\n",
      "run 28 accuracy: 0.7333333333333334\n",
      "run 29 accuracy: 0.4111111111111111\n",
      "run 30 accuracy: 0.5208333333333333\n",
      "run 31 accuracy: 0.6777777777777777\n",
      "run 32 accuracy: 0.5408163265306123\n",
      "run 33 accuracy: 0.45555555555555555\n",
      "run 34 accuracy: 0.6666666666666666\n",
      "run 35 accuracy: 0.6979166666666666\n",
      "run 36 accuracy: 0.36363636363636365\n",
      "run 37 accuracy: 0.6458333333333333\n",
      "run 38 accuracy: 0.53125\n",
      "run 39 accuracy: 0.3061224489795919\n",
      "run 40 accuracy: 0.4583333333333333\n",
      "run 41 accuracy: 0.5125000000000001\n",
      "run 42 accuracy: 0.65625\n",
      "run 43 accuracy: 0.787878787878788\n",
      "run 44 accuracy: 0.6375\n",
      "run 45 accuracy: 0.893939393939394\n",
      "run 46 accuracy: 0.65625\n",
      "run 47 accuracy: 0.7291666666666666\n",
      "run 48 accuracy: 0.71875\n",
      "run 49 accuracy: 0.5520833333333334\n",
      "Average Accuracy: 0.5461919707276851\n",
      "Average Recall: 0.6430448147351286\n",
      "Average Balanced: 0.5111457431457433\n",
      "Average TN: 1.68\n",
      "Average FN: 2.68\n",
      "Average TP: 5.08\n",
      "Average FP: 4.56\n",
      "Average Log Loss: 0.7609366694384478\n"
     ]
    }
   ],
   "source": [
    "accuracy = 0\n",
    "recall = 0\n",
    "BAC = 0\n",
    "\n",
    "a_TN = 0\n",
    "a_FN = 0\n",
    "a_TP = 0\n",
    "a_FP = 0\n",
    "\n",
    "loss = 0\n",
    "for i in range(50):\n",
    "    acc, rec, bac, TN, FN,\\\n",
    "    TP, FP, log_loss, clf = FixedClassificationModel.train(testX, testY, BALANCE)\n",
    "    accuracy += acc\n",
    "    recall += rec\n",
    "    BAC += bac\n",
    "    loss += log_loss\n",
    "    \n",
    "    print(\"run \" + str(i) + \" accuracy: \" + str(acc))\n",
    "\n",
    "    a_TN += TN\n",
    "    a_FN += FN\n",
    "    a_TP += TP\n",
    "    a_FP += FP\n",
    "print('Average Accuracy: ' + str(accuracy/50))\n",
    "print('Average Recall: ' + str(recall/50))\n",
    "print('Average Balanced: ' + str(BAC/50))\n",
    "\n",
    "print('Average TN: ' + str(a_TN/50))\n",
    "print('Average FN: ' + str(a_FN/50))\n",
    "print('Average TP: ' + str(a_TP/50))\n",
    "print('Average FP: ' + str(a_FP/50))\n",
    "\n",
    "print('Average Log Loss: ' + str(loss/50))"
   ]
  },
  {
   "cell_type": "code",
   "execution_count": 30,
   "id": "5886dd57",
   "metadata": {},
   "outputs": [],
   "source": [
    "# Extract the important feature into a dataframe for visualization \n",
    "feat_importance = pd.DataFrame({'kmer':matrix['features'],\n",
    "              'Importance':clf.feature_importances_}).sort_values('Importance', ascending=False)\n",
    "\n",
    "TM = ['TM1', 'TM2', 'TM3', 'TM4', 'TM5', 'TM6', 'TM7']\n",
    "for i in TM:\n",
    "    feat_importance.loc[feat_importance['kmer'].str.contains(i), 'TM'] = i\n",
    "feat_importance.loc[feat_importance['kmer'].str.contains('aa'), 'feature'] = 'aa'\n",
    "feat_importance.loc[feat_importance['kmer'].str.contains('di'), 'feature'] = 'di'"
   ]
  },
  {
   "cell_type": "code",
   "execution_count": 183,
   "id": "a2f835b1",
   "metadata": {},
   "outputs": [
    {
     "data": {
      "text/html": [
       "<div>\n",
       "<style scoped>\n",
       "    .dataframe tbody tr th:only-of-type {\n",
       "        vertical-align: middle;\n",
       "    }\n",
       "\n",
       "    .dataframe tbody tr th {\n",
       "        vertical-align: top;\n",
       "    }\n",
       "\n",
       "    .dataframe thead th {\n",
       "        text-align: right;\n",
       "    }\n",
       "</style>\n",
       "<table border=\"1\" class=\"dataframe\">\n",
       "  <thead>\n",
       "    <tr style=\"text-align: right;\">\n",
       "      <th></th>\n",
       "      <th>Importance</th>\n",
       "    </tr>\n",
       "    <tr>\n",
       "      <th>TM</th>\n",
       "      <th></th>\n",
       "    </tr>\n",
       "  </thead>\n",
       "  <tbody>\n",
       "    <tr>\n",
       "      <th>TM1</th>\n",
       "      <td>0.134105</td>\n",
       "    </tr>\n",
       "    <tr>\n",
       "      <th>TM2</th>\n",
       "      <td>0.145067</td>\n",
       "    </tr>\n",
       "    <tr>\n",
       "      <th>TM3</th>\n",
       "      <td>0.135123</td>\n",
       "    </tr>\n",
       "    <tr>\n",
       "      <th>TM4</th>\n",
       "      <td>0.148293</td>\n",
       "    </tr>\n",
       "    <tr>\n",
       "      <th>TM5</th>\n",
       "      <td>0.124829</td>\n",
       "    </tr>\n",
       "    <tr>\n",
       "      <th>TM6</th>\n",
       "      <td>0.169256</td>\n",
       "    </tr>\n",
       "    <tr>\n",
       "      <th>TM7</th>\n",
       "      <td>0.143327</td>\n",
       "    </tr>\n",
       "  </tbody>\n",
       "</table>\n",
       "</div>"
      ],
      "text/plain": [
       "     Importance\n",
       "TM             \n",
       "TM1    0.134105\n",
       "TM2    0.145067\n",
       "TM3    0.135123\n",
       "TM4    0.148293\n",
       "TM5    0.124829\n",
       "TM6    0.169256\n",
       "TM7    0.143327"
      ]
     },
     "execution_count": 183,
     "metadata": {},
     "output_type": "execute_result"
    }
   ],
   "source": [
    "feat_importance[['TM', 'Importance']].groupby('TM').sum()"
   ]
  },
  {
   "cell_type": "code",
   "execution_count": 184,
   "id": "e997044e",
   "metadata": {},
   "outputs": [
    {
     "data": {
      "text/html": [
       "<div>\n",
       "<style scoped>\n",
       "    .dataframe tbody tr th:only-of-type {\n",
       "        vertical-align: middle;\n",
       "    }\n",
       "\n",
       "    .dataframe tbody tr th {\n",
       "        vertical-align: top;\n",
       "    }\n",
       "\n",
       "    .dataframe thead th {\n",
       "        text-align: right;\n",
       "    }\n",
       "</style>\n",
       "<table border=\"1\" class=\"dataframe\">\n",
       "  <thead>\n",
       "    <tr style=\"text-align: right;\">\n",
       "      <th></th>\n",
       "      <th>Importance</th>\n",
       "    </tr>\n",
       "    <tr>\n",
       "      <th>feature</th>\n",
       "      <th></th>\n",
       "    </tr>\n",
       "  </thead>\n",
       "  <tbody>\n",
       "    <tr>\n",
       "      <th>aa</th>\n",
       "      <td>0.621464</td>\n",
       "    </tr>\n",
       "    <tr>\n",
       "      <th>di</th>\n",
       "      <td>0.378536</td>\n",
       "    </tr>\n",
       "  </tbody>\n",
       "</table>\n",
       "</div>"
      ],
      "text/plain": [
       "         Importance\n",
       "feature            \n",
       "aa         0.621464\n",
       "di         0.378536"
      ]
     },
     "execution_count": 184,
     "metadata": {},
     "output_type": "execute_result"
    }
   ],
   "source": [
    "feat_importance[['feature', 'Importance']].groupby('feature').sum()"
   ]
  },
  {
   "cell_type": "code",
   "execution_count": null,
   "id": "4cc5efc2",
   "metadata": {},
   "outputs": [],
   "source": []
  },
  {
   "cell_type": "code",
   "execution_count": null,
   "id": "5352d80c",
   "metadata": {},
   "outputs": [],
   "source": []
  }
 ],
 "metadata": {
  "kernelspec": {
   "display_name": "Python 3 (ipykernel)",
   "language": "python",
   "name": "python3"
  },
  "language_info": {
   "codemirror_mode": {
    "name": "ipython",
    "version": 3
   },
   "file_extension": ".py",
   "mimetype": "text/x-python",
   "name": "python",
   "nbconvert_exporter": "python",
   "pygments_lexer": "ipython3",
   "version": "3.9.12"
  }
 },
 "nbformat": 4,
 "nbformat_minor": 5
}
