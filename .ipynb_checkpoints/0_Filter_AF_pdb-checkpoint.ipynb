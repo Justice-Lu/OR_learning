{
 "cells": [
  {
   "cell_type": "code",
   "execution_count": 1,
   "id": "a1e0b44b",
   "metadata": {},
   "outputs": [],
   "source": [
    "import pandas as pd \n",
    "import numpy as np \n",
    "import os\n",
    "import urllib\n",
    "import importlib"
   ]
  },
  {
   "cell_type": "code",
   "execution_count": 3,
   "id": "4c385fc4",
   "metadata": {},
   "outputs": [
    {
     "data": {
      "text/plain": [
       "<module 'rmsd_functions' from '/data/jlu/OR_learning/rmsd_functions.py'>"
      ]
     },
     "execution_count": 3,
     "metadata": {},
     "output_type": "execute_result"
    }
   ],
   "source": [
    "import rmsd_functions as rmsd \n",
    "importlib.reload(rmsd)"
   ]
  },
  {
   "cell_type": "code",
   "execution_count": 6,
   "id": "938a0706",
   "metadata": {},
   "outputs": [],
   "source": [
    "AF_files = os.listdir('./AF_pdb/')"
   ]
  },
  {
   "cell_type": "code",
   "execution_count": null,
   "id": "4b8ff557",
   "metadata": {},
   "outputs": [],
   "source": [
    "# extract Uniprot ID to filter for ORs \n",
    "AF_id = []\n",
    "for file in AF_files:\n",
    "    if \"pdb\" in file:\n",
    "        AF_id.append(file.split('-')[1])\n",
    "# pd.DataFrame(AF_id).to_csv('./AF_id.csv')"
   ]
  },
  {
   "cell_type": "markdown",
   "id": "8b1527af",
   "metadata": {},
   "source": [
    "Uniprot id csv is copied and pasted to https://www.uniprot.org/mapping/\n",
    "The converted Tab format is read below "
   ]
  },
  {
   "cell_type": "code",
   "execution_count": 12,
   "id": "f5c1d6da",
   "metadata": {
    "scrolled": true
   },
   "outputs": [],
   "source": [
    "AF_table = pd.read_table('./AF_id_converted.tab')"
   ]
  },
  {
   "cell_type": "code",
   "execution_count": 15,
   "id": "b5e7b319",
   "metadata": {},
   "outputs": [],
   "source": [
    "# Extract for the ID that are Olfr gene names \n",
    "AF_table = AF_table[AF_table['Gene names'].str.contains(\"Olfr\", na=False)]"
   ]
  },
  {
   "cell_type": "code",
   "execution_count": 16,
   "id": "b35cd2e7",
   "metadata": {},
   "outputs": [],
   "source": [
    "# Remove none Olfr pdb files \n",
    "for file in AF_files:\n",
    "#     statement checks in the current filename contains Olfr uniprot ID\n",
    "    if [x for x in AF_table['Entry'] if x in file ] == []:\n",
    "        os.remove(\"AF_pdb/\"+file)"
   ]
  },
  {
   "cell_type": "code",
   "execution_count": null,
   "id": "00813988",
   "metadata": {},
   "outputs": [],
   "source": [
    "# rename left over pdb files with gene names instead \n",
    "for file in os.listdir('./AF_pdb'):\n",
    "    gene_name = AF_table[AF_table['Entry'] == file.split('-')[1]]['Gene names'].values[0]\n",
    "    gene_name = gene_name.replace(\" \",\"_\")\n",
    "    path = './AF_pdb/'+file\n",
    "    os.rename(path, './AF_pdb/'+gene_name+'.pdb')"
   ]
  },
  {
   "cell_type": "markdown",
   "id": "5a0e1c42",
   "metadata": {},
   "source": [
    "Since not all of the pdb files downloaded from AF has the same format. Likely due to when it's created. Read through the .pdb files, and only keep the rows that starts with \"ATOM ...\" "
   ]
  },
  {
   "cell_type": "code",
   "execution_count": 3,
   "id": "4f439df5",
   "metadata": {},
   "outputs": [],
   "source": [
    "pdb_files = os.listdir('./AF_pdb/Original/')"
   ]
  },
  {
   "cell_type": "code",
   "execution_count": 8,
   "id": "70ec0731",
   "metadata": {},
   "outputs": [],
   "source": [
    "# For testing purpose. Olfr10 readable by read.pdb, wheras Olfr101 format is unintepreable by read.pdb in bio3d \n",
    "# pdb_files = ['Olfr101.pdb', 'Olfr10.pdb']"
   ]
  },
  {
   "cell_type": "code",
   "execution_count": 7,
   "id": "3be2ea60",
   "metadata": {},
   "outputs": [],
   "source": [
    "# opens pdb files, write a new files with only ATOM... \n",
    "for pdb in pdb_files: \n",
    "    atom_lines = []\n",
    "    with open('./AF_pdb/Original/' + pdb) as f:\n",
    "        lines = f.readlines()\n",
    "        for line in lines:\n",
    "            if line.split(\" \")[0] == \"ATOM\":\n",
    "                atom_lines.append(line)\n",
    "    with open('./AF_pdb/' + pdb, 'w') as f:\n",
    "        for line in atom_lines:\n",
    "            f.write(line)\n"
   ]
  },
  {
   "cell_type": "markdown",
   "id": "cb8c1a1b",
   "metadata": {},
   "source": [
    "filter the pdb files so it only contains columns of \n",
    "\n",
    "ATOM resid atom_id aa x y z atom_id_simplified"
   ]
  },
  {
   "cell_type": "code",
   "execution_count": 44,
   "id": "19ebf734",
   "metadata": {},
   "outputs": [],
   "source": [
    "with open('./AF_pdb/Olfr101.pdb') as f:\n",
    "    Olfr101 = f.readlines()\n",
    "with open('./AF_pdb/Olfr10.pdb') as f:\n",
    "    Olfr10 = f.readlines()"
   ]
  },
  {
   "cell_type": "code",
   "execution_count": 8,
   "id": "d06b4a6e",
   "metadata": {},
   "outputs": [],
   "source": [
    "# Rewrites the old-dated formate of pdb output from AF with 25 column in ATOM to the accepted readbale pdb format \n",
    "for pdb in pdb_files: \n",
    "    new_lines = []\n",
    "    with open('./AF_pdb/' + pdb) as f: \n",
    "        lines = f.readlines()\n",
    "        if len(lines[0].split()) == 25:\n",
    "            for line in lines: \n",
    "                line = line.split()\n",
    "                new_lines.append(\"{}  {}  {}  {}  {}  {}  {}  {}  {}  {}  {}  {}\".format(line[0], line[1], line[3], \n",
    "                                                                     line[5], line[6], line[16], \n",
    "                                                                     line[10], line[11], line[12], \n",
    "                                                                     line[13], line[14], line[2]))\n",
    "            with open('./AF_pdb/' + pdb, 'w') as f:\n",
    "                for line in new_lines:\n",
    "                    f.write(line + \" \\n\")\n",
    "                f.close()\n"
   ]
  },
  {
   "cell_type": "code",
   "execution_count": null,
   "id": "c7631cd8",
   "metadata": {},
   "outputs": [],
   "source": []
  },
  {
   "cell_type": "code",
   "execution_count": 101,
   "id": "8fdb96e7",
   "metadata": {},
   "outputs": [],
   "source": []
  }
 ],
 "metadata": {
  "kernelspec": {
   "display_name": "scanpy",
   "language": "python",
   "name": "scanpy"
  },
  "language_info": {
   "codemirror_mode": {
    "name": "ipython",
    "version": 3
   },
   "file_extension": ".py",
   "mimetype": "text/x-python",
   "name": "python",
   "nbconvert_exporter": "python",
   "pygments_lexer": "ipython3",
   "version": "3.8.12"
  }
 },
 "nbformat": 4,
 "nbformat_minor": 5
}
