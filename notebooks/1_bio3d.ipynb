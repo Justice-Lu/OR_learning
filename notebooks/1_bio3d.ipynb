{
 "cells": [
  {
   "cell_type": "code",
   "execution_count": null,
   "id": "4733ebc1",
   "metadata": {},
   "outputs": [],
   "source": [
    "library(bio3d)\n",
    "library(dplyr)\n",
    "library(ggplot2)"
   ]
  },
  {
   "cell_type": "code",
   "execution_count": 41,
   "id": "da5b02c7",
   "metadata": {},
   "outputs": [],
   "source": [
    "pdb_files <- list.files('./AF_pdb', full.names = TRUE)\n",
    "# filter by .pdb files \n",
    "pdb_files <- pdb_files[grepl(\"\\\\.pdb\", pdb_files)]"
   ]
  },
  {
   "cell_type": "markdown",
   "id": "8a1c9411",
   "metadata": {},
   "source": [
    "Reads in all the pdb files in the directory of './AF_pdb' and extract only the $atom dataframe \n",
    "matrix into the pdb object. Additionally mutate OR file names into OR column "
   ]
  },
  {
   "cell_type": "code",
   "execution_count": null,
   "id": "4b6c7060",
   "metadata": {},
   "outputs": [],
   "source": [
    "pdb <- c()\n",
    "unread_pdb <- c()\n",
    "for( file in pdb_files){\n",
    "    skip_to_next <- FALSE\n",
    "    tryCatch({\n",
    "        pdb <- rbind(pdb, read.pdb2(file)$atom %>% mutate(\n",
    "            OR = strsplit(strsplit(file, \"\\\\.\")[[1]][2], \"\\\\/\")[[1]][3]))\n",
    "        print(paste(\"read \", file))\n",
    "            }, \n",
    "             error=function(cond){ message(paste(file, \" failed to be read by read.pdb\"))\n",
    "                                 skip_to_next <- TRUE},\n",
    "             warning=function(cond) {\n",
    "             }\n",
    "            )\n",
    "    if(skip_to_next) {\n",
    "        unread_pdb <- c(unread_pdb, file)\n",
    "        next\n",
    "    }\n",
    "}\n",
    "# write.csv(pdb, \"./pdb_DF.csv\")"
   ]
  },
  {
   "cell_type": "code",
   "execution_count": null,
   "id": "30156c22",
   "metadata": {},
   "outputs": [],
   "source": []
  },
  {
   "cell_type": "code",
   "execution_count": null,
   "id": "d5f5f109",
   "metadata": {},
   "outputs": [],
   "source": []
  },
  {
   "cell_type": "code",
   "execution_count": null,
   "id": "57649b67",
   "metadata": {},
   "outputs": [],
   "source": []
  }
 ],
 "metadata": {
  "kernelspec": {
   "display_name": "R",
   "language": "R",
   "name": "ir"
  },
  "language_info": {
   "codemirror_mode": "r",
   "file_extension": ".r",
   "mimetype": "text/x-r-source",
   "name": "R",
   "pygments_lexer": "r",
   "version": "4.2.2"
  }
 },
 "nbformat": 4,
 "nbformat_minor": 5
}
