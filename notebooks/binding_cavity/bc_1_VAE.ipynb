{
 "cells": [
  {
   "cell_type": "code",
   "execution_count": 1,
   "metadata": {},
   "outputs": [
    {
     "name": "stderr",
     "output_type": "stream",
     "text": [
      "2025-01-22 16:59:14.943130: E external/local_xla/xla/stream_executor/cuda/cuda_fft.cc:485] Unable to register cuFFT factory: Attempting to register factory for plugin cuFFT when one has already been registered\n",
      "2025-01-22 16:59:14.960145: E external/local_xla/xla/stream_executor/cuda/cuda_dnn.cc:8454] Unable to register cuDNN factory: Attempting to register factory for plugin cuDNN when one has already been registered\n",
      "2025-01-22 16:59:14.965019: E external/local_xla/xla/stream_executor/cuda/cuda_blas.cc:1452] Unable to register cuBLAS factory: Attempting to register factory for plugin cuBLAS when one has already been registered\n",
      "2025-01-22 16:59:14.981818: I tensorflow/core/platform/cpu_feature_guard.cc:210] This TensorFlow binary is optimized to use available CPU instructions in performance-critical operations.\n",
      "To enable the following instructions: SSE4.1 SSE4.2 AVX AVX2 FMA, in other operations, rebuild TensorFlow with the appropriate compiler flags.\n"
     ]
    }
   ],
   "source": [
    "from IPython import display\n",
    "import numpy as np \n",
    "\n",
    "import glob\n",
    "# import imageio\n",
    "import matplotlib.pyplot as plt\n",
    "import numpy as np\n",
    "# import PIL\n",
    "import tensorflow as tf\n",
    "# import tensorflow_probability as tfp\n",
    "# import time\n",
    "\n",
    "import pandas as pd \n",
    "import sys \n",
    "\n",
    "sys.path.insert(0, '/data/jlu/OR_learning/utils')\n",
    "import voxel_functions as vf\n",
    "import color_function as cf \n",
    "\n",
    "import random \n",
    "import plotly.graph_objects as go "
   ]
  },
  {
   "cell_type": "markdown",
   "metadata": {},
   "source": [
    "#### Loading voxels "
   ]
  },
  {
   "cell_type": "code",
   "execution_count": 2,
   "metadata": {},
   "outputs": [],
   "source": [
    "# Open pickle file of binding cavity dictionary\n",
    "bc_cav_coords = pd.read_pickle('/data/jlu/OR_learning/files/dict_bc_cav_tmaligned.pkl')"
   ]
  },
  {
   "cell_type": "code",
   "execution_count": 3,
   "metadata": {},
   "outputs": [
    {
     "name": "stdout",
     "output_type": "stream",
     "text": [
      "(1080, 72, 81, 69)\n"
     ]
    }
   ],
   "source": [
    "# Create cavity voxels from coordinates \n",
    "# DROP Or defined in the exclusion list below\n",
    "EXCLUDE_OR_LIST = ['Or4Q3', 'Or2W25', 'Or2l1', 'Or4A67', 'Or2I1']\n",
    "bc_cav_coords = {key: value for key, value in bc_cav_coords.items() if key not in EXCLUDE_OR_LIST}\n",
    "# DROP non DL_OR names\n",
    "bc_cav_coords = {key: value for key, value in bc_cav_coords.items() if key.startswith('Or')}\n",
    "\n",
    "\n",
    "# Voxelize binding cavity coordinates \n",
    "voxelized_cavities, voxel_shape = vf.voxelize_coordinates(list(bc_cav_coords.values()), resolution=1)\n",
    "\n",
    "# Output: List of 1D arrays representing voxelized space\n",
    "print(np.array(voxelized_cavities).shape)"
   ]
  },
  {
   "cell_type": "code",
   "execution_count": null,
   "metadata": {},
   "outputs": [],
   "source": [
    "# Visualize voxel \n",
    "\n",
    "Or_name = ['Or1Ad1', 'Or2T43', 'Or2T48']\n",
    "\n",
    "temp = {key: value for key, value in bc_cav_coords.items() if key in Or_name}\n",
    "voxelized_cavities, voxel_shape = vf.voxelize_coordinates(list(temp.values()), resolution=0.6)\n",
    "\n",
    "voxel_data = voxelized_cavities\n",
    "voxel_size = 1\n",
    "\n",
    "# Create a plotly scatter plot\n",
    "fig = go.Figure()\n",
    "\n",
    "color_map = cf.distinct_colors(list(range(3)))\n",
    "for i, voxel_grid in enumerate(voxel_data):\n",
    "    # Get the coordinates of the occupied voxels (where voxel value is 1)\n",
    "    occupied_voxels = np.array(np.where(voxel_grid == 1)).T\n",
    "    \n",
    "    # Convert the voxel indices back to 3D space coordinates\n",
    "    x = occupied_voxels[:, 0] * voxel_size\n",
    "    y = occupied_voxels[:, 1] * voxel_size\n",
    "    z = occupied_voxels[:, 2] * voxel_size\n",
    "    \n",
    "    # Add the points to the plot\n",
    "    fig.add_trace(go.Scatter3d(\n",
    "        x=x, y=y, z=z,\n",
    "        mode='markers',\n",
    "        name=Or_name[i],\n",
    "        marker=dict(size=3, \n",
    "                    color=color_map[i], \n",
    "                    opacity=0.3)\n",
    "    ))\n",
    "\n",
    "# Update layout for 3D visualization\n",
    "fig.update_layout(margin=dict(r=10, l=10, b=10, t=10))\n",
    "fig.show()\n"
   ]
  },
  {
   "cell_type": "markdown",
   "metadata": {},
   "source": [
    "#### VAE"
   ]
  },
  {
   "cell_type": "code",
   "execution_count": 18,
   "metadata": {},
   "outputs": [],
   "source": [
    "class CVAE(tf.keras.Model):\n",
    "    def __init__(self, input_shape, latent_dim, encoder_filters, encoder_kernels, encoder_strides,\n",
    "                 decoder_dense_shape, decoder_filters, decoder_kernels, decoder_strides):\n",
    "        super(CVAE, self).__init__()\n",
    "        self.latent_dim = latent_dim\n",
    "        self.encoder = self.build_encoder(input_shape, encoder_filters, encoder_kernels, encoder_strides, latent_dim)\n",
    "        self.decoder = self.build_decoder(latent_dim, decoder_dense_shape, decoder_filters, decoder_kernels, decoder_strides)\n",
    "\n",
    "    def build_encoder(self, input_shape, filters, kernels, strides, latent_dim):\n",
    "        layers = [tf.keras.layers.InputLayer(input_shape=input_shape)]\n",
    "        \n",
    "        for f, k, s in zip(filters, kernels, strides):\n",
    "            layers.append(tf.keras.layers.Conv3D(filters=f, kernel_size=k, strides=s, activation='relu'))\n",
    "\n",
    "        layers.append(tf.keras.layers.Flatten())\n",
    "        layers.append(tf.keras.layers.Dense(latent_dim + latent_dim))  # No activation\n",
    "        \n",
    "        return tf.keras.Sequential(layers)\n",
    "\n",
    "    def build_decoder(self, latent_dim, dense_shape, filters, kernels, strides):\n",
    "        layers = [tf.keras.layers.InputLayer(input_shape=(latent_dim,)),\n",
    "                  tf.keras.layers.Dense(units=dense_shape, activation=tf.nn.relu),\n",
    "                  tf.keras.layers.Reshape(target_shape=dense_shape)]\n",
    "\n",
    "        for f, k, s in zip(filters, kernels, strides):\n",
    "            layers.append(tf.keras.layers.Conv3DTranspose(filters=f, kernel_size=k, strides=s, padding='same', activation='relu'))\n",
    "        \n",
    "        layers.append(tf.keras.layers.Conv3DTranspose(filters=4, kernel_size=3, strides=1, padding='same'))  # No activation\n",
    "        \n",
    "        return tf.keras.Sequential(layers)\n",
    "    \n",
    "    \n",
    "    def encode(self, x):\n",
    "        mean, logvar = tf.split(self.encoder(x), num_or_size_splits=2, axis=1)\n",
    "        return mean, logvar\n",
    "    \n",
    "    def reparameterize(self, mean, logvar):\n",
    "        eps = tf.random.normal(shape=mean.shape)\n",
    "        return eps * tf.exp(logvar * .5) + mean\n",
    "    \n",
    "    def decode(self, z, apply_sigmoid=False):\n",
    "        logits = self.decoder(z)\n",
    "        if apply_sigmoid:\n",
    "            probs = tf.sigmoid(logits)\n",
    "            return probs\n",
    "        return logits\n",
    "    \n",
    "    @tf.function\n",
    "    def sample(self, z=None):\n",
    "        if z is None:\n",
    "            z = tf.random.normal(shape=(100, self.latent_dim))\n",
    "        return self.decode(z, apply_sigmoid=True)\n",
    "    \n",
    "\n",
    "def log_normal_pdf(sample, mean, logvar, raxis=1):\n",
    "    log2pi = tf.math.log(2. * np.pi)\n",
    "    return tf.reduce_sum(\n",
    "        -.5 * ((sample - mean) ** 2. * tf.exp(-logvar) + logvar + log2pi),\n",
    "        axis=raxis)\n",
    "    \n",
    "def compute_loss(model, x):\n",
    "    mean, logvar = model.encode(x)\n",
    "    z = model.reparameterize(mean, logvar)\n",
    "    x_logit = model.decode(z)\n",
    "    cross_ent = tf.nn.sigmoid_cross_entropy_with_logits(logits=x_logit, labels=x)\n",
    "    logpx_z = -tf.reduce_sum(cross_ent, axis=[1, 2, 3])\n",
    "    logpz = log_normal_pdf(z, 0., 0.)\n",
    "    logqz_x = log_normal_pdf(z, mean, logvar)\n",
    "    return -tf.reduce_mean(logpx_z + logpz - logqz_x)\n",
    "\n",
    "\n",
    "@tf.function\n",
    "def train_step(model, x, optimizer):\n",
    "    \"\"\"Executes one training step and returns the loss.\n",
    "\n",
    "    This function computes the loss and gradients, and uses the latter to\n",
    "    update the model's parameters.\n",
    "    \"\"\"\n",
    "    with tf.GradientTape() as tape:\n",
    "        loss = compute_loss(model, x)\n",
    "    gradients = tape.gradient(loss, model.trainable_variables)\n",
    "    optimizer.apply_gradients(zip(gradients, model.trainable_variables))\n",
    "    "
   ]
  },
  {
   "cell_type": "code",
   "execution_count": null,
   "metadata": {},
   "outputs": [],
   "source": [
    "# Example usage\n",
    "input_shape = (312, 282, 404, 4)\n",
    "latent_dim = 10\n",
    "encoder_filters = [32, 64]\n",
    "encoder_kernels = [3, 3]\n",
    "encoder_strides = [(2, 2, 2), (2, 2, 2)]\n",
    "decoder_dense_shape = (39, 36, 51, 32)  # Adjusted according to the encoder output\n",
    "decoder_filters = [64, 32]\n",
    "decoder_kernels = [3, 3]\n",
    "decoder_strides = [(2, 2, 2), (2, 2, 2)]\n",
    "\n",
    "model = CVAE(input_shape, latent_dim, encoder_filters, encoder_kernels, encoder_strides,\n",
    "            decoder_dense_shape, decoder_filters, decoder_kernels, decoder_strides)"
   ]
  },
  {
   "cell_type": "code",
   "execution_count": 23,
   "metadata": {},
   "outputs": [
    {
     "name": "stdout",
     "output_type": "stream",
     "text": [
      "SUCCESS: Found GPU: /device:GPU:0\n"
     ]
    },
    {
     "name": "stderr",
     "output_type": "stream",
     "text": [
      "2023-11-28 15:03:04.658535: I tensorflow/core/common_runtime/gpu/gpu_device.cc:1886] Created device /device:GPU:0 with 22296 MB memory:  -> device: 0, name: NVIDIA GeForce RTX 3090, pci bus id: 0000:03:00.0, compute capability: 8.6\n",
      "2023-11-28 15:03:04.659468: I tensorflow/core/common_runtime/gpu/gpu_device.cc:1886] Created device /device:GPU:1 with 8021 MB memory:  -> device: 1, name: NVIDIA GeForce RTX 3080, pci bus id: 0000:82:00.0, compute capability: 8.6\n",
      "2023-11-28 15:03:04.666760: I tensorflow/core/common_runtime/gpu/gpu_device.cc:1886] Created device /device:GPU:0 with 22296 MB memory:  -> device: 0, name: NVIDIA GeForce RTX 3090, pci bus id: 0000:03:00.0, compute capability: 8.6\n",
      "2023-11-28 15:03:04.667635: I tensorflow/core/common_runtime/gpu/gpu_device.cc:1886] Created device /device:GPU:1 with 8021 MB memory:  -> device: 1, name: NVIDIA GeForce RTX 3080, pci bus id: 0000:82:00.0, compute capability: 8.6\n"
     ]
    }
   ],
   "source": [
    "if tf.test.gpu_device_name() != '/device:GPU:0':\n",
    "  print('WARNING: GPU device not found.')\n",
    "else:\n",
    "  print('SUCCESS: Found GPU: {}'.format(tf.test.gpu_device_name()))"
   ]
  },
  {
   "cell_type": "code",
   "execution_count": 20,
   "metadata": {},
   "outputs": [
    {
     "data": {
      "text/plain": [
       "1568"
      ]
     },
     "execution_count": 20,
     "metadata": {},
     "output_type": "execute_result"
    }
   ],
   "source": [
    "7*7*32"
   ]
  },
  {
   "cell_type": "code",
   "execution_count": null,
   "metadata": {},
   "outputs": [],
   "source": []
  },
  {
   "cell_type": "code",
   "execution_count": null,
   "metadata": {},
   "outputs": [],
   "source": []
  },
  {
   "cell_type": "code",
   "execution_count": null,
   "metadata": {},
   "outputs": [],
   "source": []
  }
 ],
 "metadata": {
  "kernelspec": {
   "display_name": "tf",
   "language": "python",
   "name": "python3"
  },
  "language_info": {
   "codemirror_mode": {
    "name": "ipython",
    "version": 3
   },
   "file_extension": ".py",
   "mimetype": "text/x-python",
   "name": "python",
   "nbconvert_exporter": "python",
   "pygments_lexer": "ipython3",
   "version": "3.12.8"
  }
 },
 "nbformat": 4,
 "nbformat_minor": 2
}
