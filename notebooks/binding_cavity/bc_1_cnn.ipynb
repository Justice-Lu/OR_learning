{
 "cells": [
  {
   "cell_type": "code",
   "execution_count": 34,
   "metadata": {},
   "outputs": [],
   "source": [
    "import numpy as np \n",
    "import pandas as pd \n",
    "import sys \n",
    "\n",
    "import torch\n",
    "import torch.nn as nn\n",
    "import torch.optim as optim\n",
    "import torchvision\n",
    "import torchvision.transforms as transforms\n",
    "import torch.nn.functional as F\n",
    "from torch.utils.data import Dataset, DataLoader\n",
    "\n",
    "sys.path.insert(0, '/data/jlu/OR_learning/utils')\n",
    "import voxel_functions as vf\n",
    "import color_function as cf \n",
    "import plot_functions as pf "
   ]
  },
  {
   "cell_type": "markdown",
   "metadata": {},
   "source": [
    "### Loading voxels "
   ]
  },
  {
   "cell_type": "code",
   "execution_count": 70,
   "metadata": {},
   "outputs": [],
   "source": [
    "# Open pickle file of binding cavity dictionary\n",
    "Cbc_cav_coords = pd.read_pickle('/data/jlu/OR_learning/files/binding_cavity/dict_Cbc_cav_coords.pkl')\n",
    "Cbc_res_coords = pd.read_pickle('/data/jlu/OR_learning/files/binding_cavity/dict_Cbc_res_coords.pkl')\n",
    "# Response distance \n",
    "respDist = pd.read_csv('../../files/Deorphanization/Resp_Olfr_distance.csv', index_col = [0,1])[['resp_dist']]\n",
    "# Remove 'Olfr' \n",
    "respDist = respDist[(~respDist.index.get_level_values(0).str.contains('Olfr')) &\n",
    "                    (~respDist.index.get_level_values(1).str.contains('Olfr'))].sort_index()"
   ]
  },
  {
   "cell_type": "code",
   "execution_count": 151,
   "metadata": {},
   "outputs": [
    {
     "name": "stdout",
     "output_type": "stream",
     "text": [
      "(372, 41, 40, 36, 8)\n"
     ]
    }
   ],
   "source": [
    "# Create cavity voxels from coordinates \n",
    "\n",
    "# Make Cbc coords reordered with respDist index orders\n",
    "OR_ORDER = np.sort(list(set.intersection(set(respDist.index.get_level_values(0).unique()), \n",
    "                                         set(Cbc_cav_coords.keys()))))\n",
    "\n",
    "# Remove none intersected ORs from y\n",
    "respDist = respDist[respDist.index.get_level_values(0).isin(OR_ORDER) & \n",
    "                    respDist.index.get_level_values(1).isin(OR_ORDER)]\n",
    "\n",
    "\n",
    "Cbc_cav_coords = {_OR : Cbc_cav_coords[_OR] for _OR in OR_ORDER}\n",
    "Cbc_res_coords = {_OR : Cbc_res_coords[_OR] for _OR in OR_ORDER}\n",
    "\n",
    "# Voxelize binding cavity coordinates \n",
    "voxelized_Cbc, voxel_shape = vf.voxelize_cavity(list(Cbc_cav_coords.values()), \n",
    "                                                     list(Cbc_res_coords.values()), \n",
    "                                                     resolution=1)\n",
    "\n",
    "# Output: List of 1D arrays representing voxelized space\n",
    "print(np.array(voxelized_Cbc).shape)"
   ]
  },
  {
   "cell_type": "markdown",
   "metadata": {},
   "source": [
    "### Quick Voxel visualization "
   ]
  },
  {
   "cell_type": "code",
   "execution_count": null,
   "metadata": {},
   "outputs": [],
   "source": [
    "# Visualize voxel \n",
    "colormap = cf.distinct_colors(list(Cbc_cav_coords.keys())[0:2])\n",
    "\n",
    "fig = pf.visualize_voxel_grid(list(voxelized_Cbc[0:2]), \n",
    "                              coordinate_labels=list(Cbc_cav_coords.keys())[0:2], \n",
    "                              color_map=colormap, \n",
    "                              opacity=0.3)\n",
    "# Update layout for 3D visualization\n",
    "fig.show()\n"
   ]
  },
  {
   "cell_type": "markdown",
   "metadata": {},
   "source": [
    "### CNN "
   ]
  },
  {
   "cell_type": "code",
   "execution_count": 259,
   "metadata": {},
   "outputs": [],
   "source": [
    "import torch\n",
    "from torch.utils.data import Dataset, DataLoader\n",
    "\n",
    "# Create a dataset class for pairwise voxel comparison\n",
    "class PairwiseVoxelDataset(Dataset):\n",
    "    def __init__(self, voxel, y_values, or_order):\n",
    "        \"\"\"\n",
    "        Args:\n",
    "            voxel: Voxelized cavities as a numpy array.\n",
    "            y_values: DataFrame with pairwise response distances.\n",
    "            or_order: List of receptor names in the order of voxel data.\n",
    "        \"\"\"\n",
    "        self.voxel = voxel\n",
    "        self.index_pairs = y_values.index  # Pair indices\n",
    "        self.y_values = y_values.values  # Pairwise similarity scores\n",
    "        self.or_order = or_order\n",
    "\n",
    "    def __len__(self):\n",
    "        return len(self.y_values)\n",
    "\n",
    "    def __getitem__(self, idx):\n",
    "        # Get the receptor pair indices\n",
    "        or1, or2 = self.index_pairs[idx]\n",
    "\n",
    "        # Convert receptor names to voxel indices\n",
    "        idx1 = self.or_order.index(or1)\n",
    "        idx2 = self.or_order.index(or2)\n",
    "\n",
    "        # Get voxel data for the pair\n",
    "        voxel1 = self.voxel[idx1]\n",
    "        voxel2 = self.voxel[idx2]\n",
    "\n",
    "        # Permute voxel dimensions to match Conv3d input format\n",
    "        voxel1 = torch.tensor(voxel1, dtype=torch.float32).permute(3, 0, 1, 2)  # (channels, depth, height, width)\n",
    "        voxel2 = torch.tensor(voxel2, dtype=torch.float32).permute(3, 0, 1, 2)\n",
    "\n",
    "        # Get the similarity score\n",
    "        y = self.y_values[idx]\n",
    "\n",
    "        # Return tensors\n",
    "        return voxel1, voxel2, torch.tensor(y, dtype=torch.float32)\n",
    "\n",
    "\n",
    "# Initialize the dataset and dataloader\n",
    "dataset = PairwiseVoxelDataset(voxelized_Cbc, respDist['resp_dist'], list(OR_ORDER))\n",
    "dataloader = DataLoader(dataset, batch_size=16, shuffle=True)"
   ]
  },
  {
   "cell_type": "code",
   "execution_count": 257,
   "metadata": {},
   "outputs": [],
   "source": [
    "import torch\n",
    "import torch.nn as nn\n",
    "import torch.nn.functional as F\n",
    "\n",
    "class Pairwise3DCNN(nn.Module):\n",
    "    def __init__(self, input_channels=8):\n",
    "        super(Pairwise3DCNN, self).__init__()\n",
    "        # Feature extraction layers\n",
    "        self.conv1 = nn.Conv3d(input_channels, 32, kernel_size=3, stride=1, padding=1)\n",
    "        self.conv2 = nn.Conv3d(32, 64, kernel_size=3, stride=1, padding=1)\n",
    "        self.pool = nn.MaxPool3d(kernel_size=2, stride=2)\n",
    "        \n",
    "        # Fully connected layers\n",
    "        self.fc1 = nn.Linear(64 * 20 * 20 * 18 * 2, 128)  # Output size after pooling and concatenation\n",
    "        self.fc2 = nn.Linear(128, 1)  # Final similarity score\n",
    "\n",
    "    def forward(self, x1, x2):\n",
    "        # Pass first voxel through convolutional layers\n",
    "        x1 = F.relu(self.conv1(x1))\n",
    "        x1 = self.pool(F.relu(self.conv2(x1)))\n",
    "\n",
    "        # Pass second voxel through convolutional layers\n",
    "        x2 = F.relu(self.conv1(x2))\n",
    "        x2 = self.pool(F.relu(self.conv2(x2)))\n",
    "\n",
    "        # Flatten and concatenate features from both inputs\n",
    "        x1 = torch.flatten(x1, start_dim=1)\n",
    "        x2 = torch.flatten(x2, start_dim=1)\n",
    "        x = torch.cat((x1, x2), dim=1)\n",
    "\n",
    "        # Fully connected layers for final similarity score\n",
    "        x = F.relu(self.fc1(x))\n",
    "        similarity = self.fc2(x)\n",
    "        return similarity"
   ]
  },
  {
   "cell_type": "code",
   "execution_count": 279,
   "metadata": {},
   "outputs": [
    {
     "name": "stderr",
     "output_type": "stream",
     "text": [
      " 10%|█         | 1/10 [00:46<07:00, 46.74s/it]"
     ]
    },
    {
     "name": "stdout",
     "output_type": "stream",
     "text": [
      "Epoch [1/10], Loss: 6.2203\n"
     ]
    },
    {
     "name": "stderr",
     "output_type": "stream",
     "text": [
      " 20%|██        | 2/10 [01:32<06:08, 46.07s/it]"
     ]
    },
    {
     "name": "stdout",
     "output_type": "stream",
     "text": [
      "Epoch [2/10], Loss: 0.0355\n"
     ]
    },
    {
     "name": "stderr",
     "output_type": "stream",
     "text": [
      " 30%|███       | 3/10 [02:19<05:24, 46.41s/it]"
     ]
    },
    {
     "name": "stdout",
     "output_type": "stream",
     "text": [
      "Epoch [3/10], Loss: 0.0352\n"
     ]
    },
    {
     "name": "stderr",
     "output_type": "stream",
     "text": [
      " 40%|████      | 4/10 [03:03<04:34, 45.76s/it]"
     ]
    },
    {
     "name": "stdout",
     "output_type": "stream",
     "text": [
      "Epoch [4/10], Loss: 0.0350\n"
     ]
    },
    {
     "name": "stderr",
     "output_type": "stream",
     "text": [
      " 50%|█████     | 5/10 [03:48<03:46, 45.22s/it]"
     ]
    },
    {
     "name": "stdout",
     "output_type": "stream",
     "text": [
      "Epoch [5/10], Loss: 0.0348\n"
     ]
    },
    {
     "name": "stderr",
     "output_type": "stream",
     "text": [
      " 60%|██████    | 6/10 [04:33<03:01, 45.38s/it]"
     ]
    },
    {
     "name": "stdout",
     "output_type": "stream",
     "text": [
      "Epoch [6/10], Loss: 0.0347\n"
     ]
    },
    {
     "name": "stderr",
     "output_type": "stream",
     "text": [
      " 70%|███████   | 7/10 [05:19<02:16, 45.57s/it]"
     ]
    },
    {
     "name": "stdout",
     "output_type": "stream",
     "text": [
      "Epoch [7/10], Loss: 0.0346\n"
     ]
    },
    {
     "name": "stderr",
     "output_type": "stream",
     "text": [
      " 80%|████████  | 8/10 [06:08<01:32, 46.41s/it]"
     ]
    },
    {
     "name": "stdout",
     "output_type": "stream",
     "text": [
      "Epoch [8/10], Loss: 0.0345\n"
     ]
    },
    {
     "name": "stderr",
     "output_type": "stream",
     "text": [
      " 90%|█████████ | 9/10 [06:53<00:46, 46.00s/it]"
     ]
    },
    {
     "name": "stdout",
     "output_type": "stream",
     "text": [
      "Epoch [9/10], Loss: 0.0345\n"
     ]
    },
    {
     "name": "stderr",
     "output_type": "stream",
     "text": [
      "100%|██████████| 10/10 [07:37<00:00, 45.77s/it]"
     ]
    },
    {
     "name": "stdout",
     "output_type": "stream",
     "text": [
      "Epoch [10/10], Loss: 0.0345\n"
     ]
    },
    {
     "name": "stderr",
     "output_type": "stream",
     "text": [
      "\n"
     ]
    },
    {
     "data": {
      "image/png": "[encoded data removed]",
      "text/plain": [
       "<Figure size 640x480 with 1 Axes>"
      ]
     },
     "metadata": {},
     "output_type": "display_data"
    }
   ],
   "source": [
    "from torch.utils.data import Subset\n",
    "\n",
    "# Randomly select a subset of indices\n",
    "subset_indices = torch.randperm(len(dataset))[:200]  # Use 100 samples for quick training\n",
    "small_dataset = Subset(dataset, subset_indices)\n",
    "\n",
    "# Create DataLoader for the smaller dataset\n",
    "small_dataloader = DataLoader(small_dataset, batch_size=8, shuffle=True)\n",
    "\n",
    "import matplotlib.pyplot as plt\n",
    "\n",
    "# Training parameters\n",
    "num_epochs = 10  # Fewer epochs for quick testing\n",
    "learning_rate = 0.001\n",
    "\n",
    "# Initialize model, loss, and optimizer\n",
    "model = Pairwise3DCNN().to(device)\n",
    "criterion = nn.MSELoss()\n",
    "optimizer = torch.optim.Adam(model.parameters(), lr=learning_rate)\n",
    "\n",
    "# Store losses for visualization\n",
    "losses = []\n",
    "\n",
    "# Training loop\n",
    "for epoch in tqdm(range(num_epochs)):\n",
    "    epoch_loss = 0\n",
    "    model.train()\n",
    "    \n",
    "    for voxel1, voxel2, y in small_dataloader:\n",
    "        voxel1, voxel2, y = voxel1.to(device), voxel2.to(device), y.to(device)\n",
    "\n",
    "        # Forward pass\n",
    "        outputs = model(voxel1, voxel2).squeeze()\n",
    "        loss = criterion(outputs, y)\n",
    "        epoch_loss += loss.item()\n",
    "\n",
    "        # Backward pass and optimization\n",
    "        optimizer.zero_grad()\n",
    "        loss.backward()\n",
    "        optimizer.step()\n",
    "\n",
    "    # Log average loss for the epoch\n",
    "    avg_loss = epoch_loss / len(small_dataloader)\n",
    "    losses.append(avg_loss)\n",
    "    print(f\"Epoch [{epoch+1}/{num_epochs}], Loss: {avg_loss:.4f}\")\n",
    "\n",
    "# Plot the loss curve\n",
    "plt.plot(losses, label=\"Training Loss\")\n",
    "plt.xlabel(\"Epoch\")\n",
    "plt.ylabel(\"Loss\")\n",
    "plt.title(\"Loss Curve\")\n",
    "plt.legend()\n",
    "plt.show()"
   ]
  },
  {
   "cell_type": "code",
   "execution_count": null,
   "metadata": {},
   "outputs": [],
   "source": [
    "from tqdm import tqdm \n",
    "\n",
    "# Initialize model, loss function, and optimizer\n",
    "device = torch.device('cuda' if torch.cuda.is_available() else 'cpu')\n",
    "model = Pairwise3DCNN(input_channels=8).to(device)\n",
    "criterion = nn.MSELoss()  # Mean squared error for regression\n",
    "optimizer = torch.optim.Adam(model.parameters(), lr=0.001)\n",
    "\n",
    "# Training loop\n",
    "num_epochs = 10\n",
    "for epoch in tqdm(range(num_epochs)):\n",
    "    model.train()\n",
    "    running_loss = 0.0\n",
    "    for voxel1, voxel2, y in dataloader:\n",
    "        # Move data to device\n",
    "        voxel1, voxel2, y = voxel1.to(device), voxel2.to(device), y.to(device)\n",
    "\n",
    "        # Forward pass\n",
    "        outputs = model(voxel1, voxel2).squeeze()\n",
    "        loss = criterion(outputs, y)\n",
    "\n",
    "        # Backward pass and optimization\n",
    "        optimizer.zero_grad()\n",
    "        loss.backward()\n",
    "        optimizer.step()\n",
    "\n",
    "        # Track loss\n",
    "        running_loss += loss.item()\n",
    "\n",
    "    # Print epoch loss\n",
    "    epoch_loss = running_loss / len(dataloader)\n",
    "    print(f\"Epoch [{epoch+1}/{num_epochs}], Loss: {epoch_loss:.4f}\")"
   ]
  },
  {
   "cell_type": "code",
   "execution_count": null,
   "metadata": {},
   "outputs": [],
   "source": []
  },
  {
   "cell_type": "code",
   "execution_count": null,
   "metadata": {},
   "outputs": [],
   "source": []
  },
  {
   "cell_type": "code",
   "execution_count": 280,
   "metadata": {},
   "outputs": [
    {
     "name": "stdout",
     "output_type": "stream",
     "text": [
      "Validation MSE: 0.0345\n"
     ]
    }
   ],
   "source": [
    "# Calculate MSE on the validation set\n",
    "from sklearn.metrics import mean_squared_error\n",
    "\n",
    "model.eval()\n",
    "y_true, y_pred = [], []\n",
    "\n",
    "with torch.no_grad():\n",
    "    for voxel1, voxel2, y in small_dataloader:\n",
    "        voxel1, voxel2, y = voxel1.to(device), voxel2.to(device), y.to(device)\n",
    "        outputs = model(voxel1, voxel2).squeeze()\n",
    "        y_true.extend(y.cpu().numpy())\n",
    "        y_pred.extend(outputs.cpu().numpy())\n",
    "\n",
    "mse = mean_squared_error(y_true, y_pred)\n",
    "print(f\"Validation MSE: {mse:.4f}\")"
   ]
  },
  {
   "cell_type": "code",
   "execution_count": 281,
   "metadata": {},
   "outputs": [
    {
     "name": "stdout",
     "output_type": "stream",
     "text": [
      "R² Score: -0.0007\n"
     ]
    },
    {
     "name": "stderr",
     "output_type": "stream",
     "text": [
      "/data/jlu/OR_learning/utils/plot_functions.py:97: ConstantInputWarning:\n",
      "\n",
      "An input array is constant; the correlation coefficient is not defined.\n",
      "\n"
     ]
    },
    {
     "data": {
      "text/plain": [
       "<module 'matplotlib.pyplot' from '/data/jlu/anaconda3/envs/pytorch_env/lib/python3.12/site-packages/matplotlib/pyplot.py'>"
      ]
     },
     "execution_count": 281,
     "metadata": {},
     "output_type": "execute_result"
    },
    {
     "data": {
      "image/png": "[encoded data removed]",
      "text/plain": [
       "<Figure size 400x400 with 1 Axes>"
      ]
     },
     "metadata": {},
     "output_type": "display_data"
    }
   ],
   "source": [
    "from sklearn.metrics import r2_score\n",
    "r2 = r2_score(y_true, y_pred)\n",
    "print(f\"R² Score: {r2:.4f}\")\n",
    "\n",
    "pf.plot_correlation(y_true, y_pred, \n",
    "                    xlabel='y_true', ylabel='y_pred', \n",
    "                    opacity=0.5, \n",
    "                    plot_pearson_line=None, \n",
    "                    edgecolor='black', edgesize=20, \n",
    "                    figsize=[4,4])"
   ]
  },
  {
   "cell_type": "code",
   "execution_count": null,
   "metadata": {},
   "outputs": [],
   "source": [
    "def visualize_feature_maps(layer, voxel):\n",
    "    model.eval()\n",
    "    with torch.no_grad():\n",
    "        feature_map = layer(voxel.unsqueeze(0).to('cpu')).squeeze().cpu().numpy()\n",
    "\n",
    "    # Visualize feature maps (first few channels)\n",
    "    for i in range(min(4, feature_map.shape[0])):\n",
    "        plt.imshow(feature_map[i].mean(axis=-1))  # Collapse along one axis\n",
    "        plt.title(f\"Feature Map Channel {i+1}\")\n",
    "        plt.colorbar()\n",
    "        plt.show()\n",
    "\n",
    "voxel_sample = dataset[0][0]  # A sample voxel\n",
    "visualize_feature_maps(model.conv1, voxel_sample)"
   ]
  },
  {
   "cell_type": "code",
   "execution_count": null,
   "metadata": {},
   "outputs": [],
   "source": []
  }
 ],
 "metadata": {
  "kernelspec": {
   "display_name": "pytorch_env",
   "language": "python",
   "name": "python3"
  },
  "language_info": {
   "codemirror_mode": {
    "name": "ipython",
    "version": 3
   },
   "file_extension": ".py",
   "mimetype": "text/x-python",
   "name": "python",
   "nbconvert_exporter": "python",
   "pygments_lexer": "ipython3",
   "version": "3.12.8"
  }
 },
 "nbformat": 4,
 "nbformat_minor": 2
}
