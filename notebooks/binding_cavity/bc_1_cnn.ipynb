{
 "cells": [
  {
   "cell_type": "code",
   "execution_count": 1,
   "metadata": {},
   "outputs": [
    {
     "ename": "ModuleNotFoundError",
     "evalue": "No module named 'logomaker'",
     "output_type": "error",
     "traceback": [
      "\u001b[0;31m---------------------------------------------------------------------------\u001b[0m",
      "\u001b[0;31mModuleNotFoundError\u001b[0m                       Traceback (most recent call last)",
      "Cell \u001b[0;32mIn[1], line 16\u001b[0m\n\u001b[1;32m     14\u001b[0m \u001b[38;5;28;01mimport\u001b[39;00m \u001b[38;5;21;01mvoxel_functions\u001b[39;00m \u001b[38;5;28;01mas\u001b[39;00m \u001b[38;5;21;01mvf\u001b[39;00m\n\u001b[1;32m     15\u001b[0m \u001b[38;5;28;01mimport\u001b[39;00m \u001b[38;5;21;01mcolor_function\u001b[39;00m \u001b[38;5;28;01mas\u001b[39;00m \u001b[38;5;21;01mcf\u001b[39;00m \n\u001b[0;32m---> 16\u001b[0m \u001b[38;5;28;01mimport\u001b[39;00m \u001b[38;5;21;01mplot_functions\u001b[39;00m \u001b[38;5;28;01mas\u001b[39;00m \u001b[38;5;21;01mpf\u001b[39;00m\n",
      "File \u001b[0;32m/mnt/data2/Justice/OR_learning/utils/plot_functions.py:7\u001b[0m\n\u001b[1;32m      4\u001b[0m \u001b[38;5;28;01mimport\u001b[39;00m \u001b[38;5;21;01mmatplotlib\u001b[39;00m\u001b[38;5;21;01m.\u001b[39;00m\u001b[38;5;21;01mpyplot\u001b[39;00m \u001b[38;5;28;01mas\u001b[39;00m \u001b[38;5;21;01mplt\u001b[39;00m\n\u001b[1;32m      5\u001b[0m \u001b[38;5;28;01mfrom\u001b[39;00m \u001b[38;5;21;01mscipy\u001b[39;00m\u001b[38;5;21;01m.\u001b[39;00m\u001b[38;5;21;01mstats\u001b[39;00m \u001b[38;5;28;01mimport\u001b[39;00m pearsonr, linregress\n\u001b[0;32m----> 7\u001b[0m \u001b[38;5;28;01mimport\u001b[39;00m \u001b[38;5;21;01mlogomaker\u001b[39;00m\n\u001b[1;32m      9\u001b[0m \u001b[38;5;28;01mdef\u001b[39;00m \u001b[38;5;21m_plotly_blank_style\u001b[39m(fig): \n\u001b[1;32m     10\u001b[0m \u001b[38;5;250m    \u001b[39m\u001b[38;5;124;03m\"\"\"\u001b[39;00m\n\u001b[1;32m     11\u001b[0m \u001b[38;5;124;03m    Simply update the plotly go figures to transparent background for better 3D visualization\u001b[39;00m\n\u001b[1;32m     12\u001b[0m \u001b[38;5;124;03m    \"\"\"\u001b[39;00m\n",
      "\u001b[0;31mModuleNotFoundError\u001b[0m: No module named 'logomaker'"
     ]
    }
   ],
   "source": [
    "import numpy as np \n",
    "import pandas as pd \n",
    "import sys \n",
    "import os \n",
    "import torch\n",
    "import torch.nn as nn\n",
    "import torch.optim as optim\n",
    "import torchvision\n",
    "import torchvision.transforms as transforms\n",
    "import torch.nn.functional as F\n",
    "from torch.utils.data import Dataset, DataLoader\n",
    "\n",
    "sys.path.insert(0, os.path.join(os.getcwd().split('OR_learning')[0], 'OR_learning/utils/'))\n",
    "import voxel_functions as vf\n",
    "import color_function as cf \n",
    "import plot_functions as pf "
   ]
  },
  {
   "cell_type": "markdown",
   "metadata": {},
   "source": [
    "### Loading voxels "
   ]
  },
  {
   "cell_type": "code",
   "execution_count": 4,
   "metadata": {},
   "outputs": [
    {
     "data": {
      "text/plain": [
       "array([[ -5.133,  12.791,   2.204],\n",
       "       [ -5.133,  12.791,   2.804],\n",
       "       [ -5.133,  12.791,   3.404],\n",
       "       ...,\n",
       "       [  3.267,   7.991, -11.596],\n",
       "       [  3.267,   7.991, -10.996],\n",
       "       [  3.267,   8.591, -11.596]])"
      ]
     },
     "execution_count": 4,
     "metadata": {},
     "output_type": "execute_result"
    }
   ],
   "source": [
    "Cbc_cav_coords['Or51E2']"
   ]
  },
  {
   "cell_type": "code",
   "execution_count": 2,
   "metadata": {},
   "outputs": [],
   "source": [
    "OR_LEARNING_PATH = os.path.join(os.getcwd().split('OR_learning')[0], 'OR_learning/')\n",
    "\n",
    "# Open pickle file of binding cavity dictionary\n",
    "Cbc_cav_coords = pd.read_pickle(os.path.join(OR_LEARNING_PATH, 'files/binding_cavity/dict_Cbc_cav_coords.pkl'))\n",
    "Cbc_res_coords = pd.read_pickle(os.path.join(OR_LEARNING_PATH, 'files/binding_cavity/dict_Cbc_res_coords.pkl'))\n",
    "# Response distance \n",
    "respDist = pd.read_csv(os.path.join(OR_LEARNING_PATH, 'files/Deorphanization/Resp_Olfr_distance.csv'), index_col = [0,1])[['resp_dist']]\n",
    "# Remove 'Olfr' \n",
    "respDist = respDist[(~respDist.index.get_level_values(0).str.contains('Olfr')) &\n",
    "                    (~respDist.index.get_level_values(1).str.contains('Olfr'))].sort_index()"
   ]
  },
  {
   "cell_type": "code",
   "execution_count": 5,
   "metadata": {},
   "outputs": [
    {
     "name": "stdout",
     "output_type": "stream",
     "text": [
      "(372, 41, 40, 36, 8)\n"
     ]
    }
   ],
   "source": [
    "# Create cavity voxels from coordinates \n",
    "\n",
    "# Make Cbc coords reordered with respDist index orders\n",
    "OR_ORDER = np.sort(list(set.intersection(set(respDist.index.get_level_values(0).unique()), \n",
    "                                         set(Cbc_cav_coords.keys()))))\n",
    "\n",
    "# Remove none intersected ORs from y\n",
    "respDist = respDist[respDist.index.get_level_values(0).isin(OR_ORDER) & \n",
    "                    respDist.index.get_level_values(1).isin(OR_ORDER)]\n",
    "\n",
    "\n",
    "Cbc_cav_coords = {_OR : Cbc_cav_coords[_OR] for _OR in OR_ORDER}\n",
    "Cbc_res_coords = {_OR : Cbc_res_coords[_OR] for _OR in OR_ORDER}\n",
    "\n",
    "# Voxelize binding cavity coordinates \n",
    "voxelized_Cbc, voxel_shape = vf.voxelize_cavity(list(Cbc_cav_coords.values()), \n",
    "                                                     list(Cbc_res_coords.values()), \n",
    "                                                     resolution=1)\n",
    "\n",
    "# Output: List of 1D arrays representing voxelized space\n",
    "print(np.array(voxelized_Cbc).shape)"
   ]
  },
  {
   "cell_type": "markdown",
   "metadata": {},
   "source": [
    "### Quick Voxel visualization "
   ]
  },
  {
   "cell_type": "code",
   "execution_count": null,
   "metadata": {},
   "outputs": [],
   "source": [
    "# Visualize voxel \n",
    "colormap = cf.distinct_colors(list(Cbc_cav_coords.keys())[0:2])\n",
    "\n",
    "fig = pf.visualize_voxel_grid(list(voxelized_Cbc[0:2]), \n",
    "                              coordinate_labels=list(Cbc_cav_coords.keys())[0:2], \n",
    "                              color_map=colormap, \n",
    "                              opacity=0.3)\n",
    "# Update layout for 3D visualization\n",
    "fig.show()\n"
   ]
  },
  {
   "cell_type": "markdown",
   "metadata": {},
   "source": [
    "### CNN "
   ]
  },
  {
   "cell_type": "code",
   "execution_count": 76,
   "metadata": {},
   "outputs": [],
   "source": [
    "import torch\n",
    "from torch.utils.data import Dataset, DataLoader\n",
    "\n",
    "# Create a dataset class for pairwise voxel comparison\n",
    "class PairwiseVoxelDataset(Dataset):\n",
    "    def __init__(self, voxel, y_values, or_order):\n",
    "        \"\"\"\n",
    "        Args:\n",
    "            voxel: Voxelized cavities as a numpy array.\n",
    "            y_values: DataFrame with pairwise response distances.\n",
    "            or_order: List of receptor names in the order of voxel data.\n",
    "        \"\"\"\n",
    "        self.voxel = voxel\n",
    "        self.index_pairs = y_values.index  # Pair indices\n",
    "        self.y_values = y_values.values  # Pairwise similarity scores\n",
    "        self.or_order = or_order\n",
    "\n",
    "    def __len__(self):\n",
    "        return len(self.y_values)\n",
    "\n",
    "    def __getitem__(self, idx):\n",
    "        # Get the receptor pair indices\n",
    "        or1, or2 = self.index_pairs[idx]\n",
    "\n",
    "        # Convert receptor names to voxel indices\n",
    "        idx1 = self.or_order.index(or1)\n",
    "        idx2 = self.or_order.index(or2)\n",
    "\n",
    "        # Get voxel data for the pair\n",
    "        voxel1 = self.voxel[idx1]\n",
    "        voxel2 = self.voxel[idx2]\n",
    "\n",
    "        # Permute voxel dimensions to match Conv3d input format\n",
    "        voxel1 = torch.tensor(voxel1, dtype=torch.float32).permute(3, 0, 1, 2)  # (channels, depth, height, width)\n",
    "        voxel2 = torch.tensor(voxel2, dtype=torch.float32).permute(3, 0, 1, 2)\n",
    "\n",
    "        # Get the similarity score\n",
    "        y = self.y_values[idx]\n",
    "\n",
    "        # Return tensors\n",
    "        return voxel1, voxel2, torch.tensor(y, dtype=torch.float32)\n",
    "\n",
    "\n",
    "# Initialize the dataset and dataloader\n",
    "dataset = PairwiseVoxelDataset(voxelized_Cbc, respDist['resp_dist'], list(OR_ORDER))\n",
    "dataloader = DataLoader(dataset, batch_size=16, shuffle=True)"
   ]
  },
  {
   "cell_type": "code",
   "execution_count": 6,
   "metadata": {},
   "outputs": [],
   "source": [
    "import torch\n",
    "import torch.nn as nn\n",
    "import torch.nn.functional as F\n",
    "\n",
    "class Pairwise3DCNN(nn.Module):\n",
    "    def __init__(self, input_channels=8):\n",
    "        super(Pairwise3DCNN, self).__init__()\n",
    "        # Feature extraction layers\n",
    "        self.conv1 = nn.Conv3d(input_channels, 32, kernel_size=3, stride=1, padding=1)\n",
    "        self.conv2 = nn.Conv3d(32, 64, kernel_size=3, stride=1, padding=1)\n",
    "        self.pool = nn.MaxPool3d(kernel_size=2, stride=2)\n",
    "        \n",
    "        # Fully connected layers\n",
    "        self.fc1 = nn.Linear(64 * 20 * 20 * 18 * 2, 128)  # Output size after pooling and concatenation\n",
    "        self.fc2 = nn.Linear(128, 1)  # Final similarity score\n",
    "\n",
    "    def forward(self, x1, x2):\n",
    "        # Pass first voxel through convolutional layers\n",
    "        x1 = F.relu(self.conv1(x1))\n",
    "        x1 = self.pool(F.relu(self.conv2(x1)))\n",
    "\n",
    "        # Pass second voxel through convolutional layers\n",
    "        x2 = F.relu(self.conv1(x2))\n",
    "        x2 = self.pool(F.relu(self.conv2(x2)))\n",
    "\n",
    "        # Flatten and concatenate features from both inputs\n",
    "        x1 = torch.flatten(x1, start_dim=1)\n",
    "        x2 = torch.flatten(x2, start_dim=1)\n",
    "        x = torch.cat((x1, x2), dim=1)\n",
    "\n",
    "        # Fully connected layers for final similarity score\n",
    "        x = F.relu(self.fc1(x))\n",
    "        similarity = self.fc2(x)\n",
    "        return similarity"
   ]
  },
  {
   "cell_type": "code",
   "execution_count": null,
   "metadata": {},
   "outputs": [],
   "source": [
    "random.sample(list(range(len(dataset))), 100)"
   ]
  },
  {
   "cell_type": "code",
   "execution_count": 90,
   "metadata": {},
   "outputs": [
    {
     "name": "stdout",
     "output_type": "stream",
     "text": [
      "Epoch [1/10], Training Loss: 1.3129, Test Loss: 0.0337\n",
      "Epoch [2/10], Training Loss: 0.0326, Test Loss: 0.0307\n",
      "Epoch [3/10], Training Loss: 0.0279, Test Loss: 0.0293\n",
      "Epoch [4/10], Training Loss: 0.0264, Test Loss: 0.0271\n",
      "Epoch [5/10], Training Loss: 0.0259, Test Loss: 0.0273\n",
      "Epoch [6/10], Training Loss: 0.0257, Test Loss: 0.0272\n",
      "Epoch [7/10], Training Loss: 0.0257, Test Loss: 0.0280\n",
      "Epoch [8/10], Training Loss: 0.0256, Test Loss: 0.0280\n",
      "Epoch [9/10], Training Loss: 0.0254, Test Loss: 0.0279\n",
      "Epoch [10/10], Training Loss: 0.0253, Test Loss: 0.0270\n"
     ]
    },
    {
     "data": {
      "image/png": "[encoded data removed]",
      "text/plain": [
       "<Figure size 640x480 with 1 Axes>"
      ]
     },
     "metadata": {},
     "output_type": "display_data"
    }
   ],
   "source": [
    "from torch.utils.data import random_split\n",
    "from tqdm import tqdm\n",
    "import matplotlib.pyplot as plt\n",
    "import random \n",
    "\n",
    "\n",
    "TEST_dataset = torch.utils.data.Subset(dataset, random.sample(list(range(len(dataset))), 10000))\n",
    "\n",
    "# Split the dataset into training and test subsets\n",
    "train_size = int(0.8 * len(TEST_dataset))  # 80% training, 20% testing\n",
    "test_size = len(TEST_dataset) - train_size\n",
    "train_dataset, test_dataset = random_split(TEST_dataset, [train_size, test_size])\n",
    "\n",
    "# DataLoaders for training and test subsets\n",
    "train_dataloader = DataLoader(train_dataset, batch_size=8, shuffle=True)\n",
    "test_dataloader = DataLoader(test_dataset, batch_size=8, shuffle=False)\n",
    "\n",
    "# Training parameters\n",
    "num_epochs = 10  # Fewer epochs for quick testing\n",
    "learning_rate = 0.001\n",
    "\n",
    "# Initialize model, loss, and optimizer\n",
    "device = torch.device('cuda' if torch.cuda.is_available() else 'cpu')\n",
    "model = Pairwise3DCNN().to(device)\n",
    "criterion = nn.MSELoss()\n",
    "optimizer = torch.optim.Adam(model.parameters(), lr=learning_rate)\n",
    "\n",
    "# Store losses for visualization\n",
    "train_losses = []\n",
    "test_losses = []\n",
    "\n",
    "# Training loop\n",
    "for epoch in range(num_epochs):\n",
    "    epoch_train_loss = 0\n",
    "    model.train()\n",
    "\n",
    "    # Training step\n",
    "    for voxel1, voxel2, y in train_dataloader:\n",
    "        voxel1, voxel2, y = voxel1.to(device), voxel2.to(device), y.to(device)\n",
    "\n",
    "        # Forward pass\n",
    "        outputs = model(voxel1, voxel2).squeeze()\n",
    "        loss = criterion(outputs, y)\n",
    "        epoch_train_loss += loss.item()\n",
    "\n",
    "        # Backward pass and optimization\n",
    "        optimizer.zero_grad()\n",
    "        loss.backward()\n",
    "        optimizer.step()\n",
    "\n",
    "    # Compute average training loss for the epoch\n",
    "    avg_train_loss = epoch_train_loss / len(train_dataloader)\n",
    "    train_losses.append(avg_train_loss)\n",
    "    \n",
    "    # Evaluate on test data\n",
    "    model.eval()\n",
    "    epoch_test_loss = 0\n",
    "    with torch.no_grad():\n",
    "        for voxel1, voxel2, y in test_dataloader:\n",
    "            voxel1, voxel2, y = voxel1.to(device), voxel2.to(device), y.to(device)\n",
    "\n",
    "            # Forward pass\n",
    "            outputs = model(voxel1, voxel2).squeeze()\n",
    "            loss = criterion(outputs, y)\n",
    "            epoch_test_loss += loss.item()\n",
    "\n",
    "    # Compute average test loss for the epoch\n",
    "    avg_test_loss = epoch_test_loss / len(test_dataloader)\n",
    "    test_losses.append(avg_test_loss)\n",
    "\n",
    "    # Print epoch results\n",
    "    print(f\"Epoch [{epoch+1}/{num_epochs}], Training Loss: {avg_train_loss:.4f}, Test Loss: {avg_test_loss:.4f}\")\n",
    "\n",
    "# Plot the loss curves\n",
    "plt.plot(train_losses, label=\"Training Loss\")\n",
    "plt.plot(test_losses, label=\"Test Loss\")\n",
    "plt.xlabel(\"Epoch\")\n",
    "plt.ylabel(\"Loss\")\n",
    "plt.title(\"Training and Test Loss Curve\")\n",
    "plt.legend()\n",
    "plt.show()"
   ]
  },
  {
   "cell_type": "code",
   "execution_count": 88,
   "metadata": {},
   "outputs": [
    {
     "data": {
      "image/png": "[encoded data removed]",
      "text/plain": [
       "<Figure size 640x480 with 1 Axes>"
      ]
     },
     "metadata": {},
     "output_type": "display_data"
    }
   ],
   "source": [
    "plt.plot(train_losses, label=\"Training Loss\")\n",
    "plt.plot(test_losses, label=\"Test Loss\")\n",
    "plt.xlabel(\"Epoch\")\n",
    "plt.ylabel(\"Loss\")\n",
    "plt.title(\"Training and Test Loss Curve\")\n",
    "plt.legend()\n",
    "plt.show()"
   ]
  },
  {
   "cell_type": "code",
   "execution_count": null,
   "metadata": {},
   "outputs": [],
   "source": []
  },
  {
   "cell_type": "code",
   "execution_count": null,
   "metadata": {},
   "outputs": [],
   "source": []
  },
  {
   "cell_type": "code",
   "execution_count": null,
   "metadata": {},
   "outputs": [],
   "source": [
    "# Calculate MSE on the validation set\n",
    "from sklearn.metrics import mean_squared_error\n",
    "\n",
    "model.eval()\n",
    "y_true, y_pred = [], []\n",
    "\n",
    "with torch.no_grad():\n",
    "    for voxel1, voxel2, y in small_dataloader:\n",
    "        voxel1, voxel2, y = voxel1.to(device), voxel2.to(device), y.to(device)\n",
    "        outputs = model(voxel1, voxel2).squeeze()\n",
    "        y_true.extend(y.cpu().numpy())\n",
    "        y_pred.extend(outputs.cpu().numpy())\n",
    "\n",
    "mse = mean_squared_error(y_true, y_pred)\n",
    "print(f\"Validation MSE: {mse:.4f}\")"
   ]
  },
  {
   "cell_type": "code",
   "execution_count": 281,
   "metadata": {},
   "outputs": [
    {
     "name": "stdout",
     "output_type": "stream",
     "text": [
      "R² Score: -0.0007\n"
     ]
    },
    {
     "name": "stderr",
     "output_type": "stream",
     "text": [
      "/data/jlu/OR_learning/utils/plot_functions.py:97: ConstantInputWarning:\n",
      "\n",
      "An input array is constant; the correlation coefficient is not defined.\n",
      "\n"
     ]
    },
    {
     "data": {
      "text/plain": [
       "<module 'matplotlib.pyplot' from '/data/jlu/anaconda3/envs/pytorch_env/lib/python3.12/site-packages/matplotlib/pyplot.py'>"
      ]
     },
     "execution_count": 281,
     "metadata": {},
     "output_type": "execute_result"
    },
    {
     "data": {
      "image/png": "[encoded data removed]",
      "text/plain": [
       "<Figure size 400x400 with 1 Axes>"
      ]
     },
     "metadata": {},
     "output_type": "display_data"
    }
   ],
   "source": [
    "from sklearn.metrics import r2_score\n",
    "r2 = r2_score(y_true, y_pred)\n",
    "print(f\"R² Score: {r2:.4f}\")\n",
    "\n",
    "pf.plot_correlation(y_true, y_pred, \n",
    "                    xlabel='y_true', ylabel='y_pred', \n",
    "                    opacity=0.5, \n",
    "                    plot_pearson_line=None, \n",
    "                    edgecolor='black', edgesize=20, \n",
    "                    figsize=[4,4])"
   ]
  },
  {
   "cell_type": "code",
   "execution_count": null,
   "metadata": {},
   "outputs": [],
   "source": [
    "def visualize_feature_maps(layer, voxel):\n",
    "    model.eval()\n",
    "    with torch.no_grad():\n",
    "        feature_map = layer(voxel.unsqueeze(0).to('cpu')).squeeze().cpu().numpy()\n",
    "\n",
    "    # Visualize feature maps (first few channels)\n",
    "    for i in range(min(4, feature_map.shape[0])):\n",
    "        plt.imshow(feature_map[i].mean(axis=-1))  # Collapse along one axis\n",
    "        plt.title(f\"Feature Map Channel {i+1}\")\n",
    "        plt.colorbar()\n",
    "        plt.show()\n",
    "\n",
    "voxel_sample = dataset[0][0]  # A sample voxel\n",
    "visualize_feature_maps(model.conv1, voxel_sample)"
   ]
  },
  {
   "cell_type": "code",
   "execution_count": 31,
   "metadata": {},
   "outputs": [],
   "source": [
    "import torch\n",
    "from einops import rearrange\n",
    "\"\"\"\n",
    ">>> filters = torch.randn(33, 16, 3, 3, 3)\n",
    ">>> inputs = torch.randn(20, 16, 50, 10, 20)\n",
    ">>> F.conv3d(inputs, filters)\n",
    "\"\"\"\n",
    "convP   = torch.nn.Conv3d(8, 16, kernel_size=3, padding = \"same\")\n",
    "linearL = nn.Linear(8, 16 * 32) \n",
    "#----------------------\n",
    "\n",
    "protinput = torch.randn(1, 20, 20, 20, 8) # batch, channel, height, width, depth\n",
    "liginput  = torch.randn(1, 2, 2, 2, 8)\n",
    "\n",
    "## apply conv1 operation by modifying both proteins and ligands\n",
    "class Block(nn.Module):\n",
    "    def __init__(self, init_dim, conv_kernel, conv_dim, linear_dim):\n",
    "        super().__init__()\n",
    "        self.convP = torch.nn.Conv3d(init_dim, conv_dim, kernel_size = conv_kernel, padding = \"same\")\n",
    "        self.linL  = torch.nn.Linear(init_dim, conv_dim * linear_dim)\n",
    "        self.outL  = torch.nn.Linear(linear_dim, init_dim)\n",
    "        self.linear_dim = linear_dim\n",
    "        self.conv_dim   = conv_dim\n",
    "        self.init_dim   = init_dim\n",
    "\n",
    "    def forward(self, protinput, liginput):\n",
    "        ## apply convP on protinput\n",
    "        prot = rearrange(protinput, \"batch b h d c -> batch c b h d\")\n",
    "        \n",
    "        prot = F.gelu(self.convP(prot)) # 1, conv_dim, b, w, h\n",
    "        lig  = self.linL(liginput) # 1, 2, 2, 2, conv_dim * linear_dim\n",
    "        ligc  = rearrange(lig, \"1 b h d (c2 c1) -> c2 c1 b h d\", c2 = self.linear_dim, c1 = self.conv_dim) # \n",
    "        prot = torch.nn.functional.conv3d(prot, ligc, padding = \"same\") #1, linear_dim, b, h, d\n",
    "        \n",
    "        prot = rearrange(prot, \"1 c b h d -> 1 b h d c\")\n",
    "        \n",
    "        return self.outL(F.gelu(prot))\n",
    "    \n",
    "class Inference(nn.Module):\n",
    "    def __init__(self, no_blocks, init_dim, conv_kernel, conv_dim, linear_dim):\n",
    "        super().__init__()\n",
    "        self.blocks = nn.ModuleList([Block(init_dim = init_dim, conv_kernel = conv_kernel, conv_dim = conv_dim, linear_dim = linear_dim)\n",
    "                                     for i in range(no_blocks)])\n",
    "        self.final  = nn.Linear(init_dim, 1)\n",
    "        return\n",
    "    \n",
    "    def forward(self, prot, lig):\n",
    "        for modx in self.blocks:\n",
    "            prot = prot + modx(prot, lig)\n",
    "        prot = self.final(prot).squeeze(dim = -1)\n",
    "        return prot \n",
    "    \n",
    "model = Inference(3, 8, 2, 16, 32)"
   ]
  },
  {
   "cell_type": "code",
   "execution_count": 32,
   "metadata": {},
   "outputs": [],
   "source": [
    "lig = torch.randn(1, 2, 2, 2, 8)\n",
    "prot = torch.randn(1, 20, 20, 20, 8)\n",
    "out  = model(prot, lig)"
   ]
  },
  {
   "cell_type": "code",
   "execution_count": 34,
   "metadata": {},
   "outputs": [],
   "source": [
    "likelihood = torch.sum(out, dim = [1,2,3])"
   ]
  },
  {
   "cell_type": "code",
   "execution_count": 35,
   "metadata": {},
   "outputs": [
    {
     "data": {
      "text/plain": [
       "tensor([43.4360], grad_fn=<SumBackward1>)"
      ]
     },
     "execution_count": 35,
     "metadata": {},
     "output_type": "execute_result"
    }
   ],
   "source": [
    "likelihood"
   ]
  },
  {
   "cell_type": "code",
   "execution_count": null,
   "metadata": {},
   "outputs": [],
   "source": []
  }
 ],
 "metadata": {
  "kernelspec": {
   "display_name": "pytorch_env",
   "language": "python",
   "name": "python3"
  },
  "language_info": {
   "codemirror_mode": {
    "name": "ipython",
    "version": 3
   },
   "file_extension": ".py",
   "mimetype": "text/x-python",
   "name": "python",
   "nbconvert_exporter": "python",
   "pygments_lexer": "ipython3",
   "version": "3.12.8"
  }
 },
 "nbformat": 4,
 "nbformat_minor": 2
}
