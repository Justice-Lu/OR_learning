{
 "cells": [
  {
   "cell_type": "code",
   "execution_count": 18,
   "id": "233c76ef",
   "metadata": {},
   "outputs": [],
   "source": [
    "import pandas as pd \n",
    "import numpy as np \n",
    "import os \n",
    "from Bio import SeqIO\n",
    "from Bio import pairwise2\n",
    "from Bio.pairwise2 import format_alignment"
   ]
  },
  {
   "cell_type": "code",
   "execution_count": null,
   "id": "1c6add68",
   "metadata": {},
   "outputs": [],
   "source": []
  },
  {
   "cell_type": "code",
   "execution_count": 12,
   "id": "19c4f39b",
   "metadata": {},
   "outputs": [],
   "source": [
    "sequences = {}\n",
    "with open(\"../OR_sequence/mouseOR_alignment.fasta\", \"r\") as fasta_file:\n",
    "    for record in SeqIO.parse(fasta_file, \"fasta\"):\n",
    "        sequences[record.name] = str(record.seq)\n"
   ]
  },
  {
   "cell_type": "code",
   "execution_count": 48,
   "id": "875de575",
   "metadata": {},
   "outputs": [],
   "source": [
    "def calculate_similarity(seq1, seq2):\n",
    "    seq_length = len(seq1)\n",
    "    num_matches = sum(a == b for a, b in zip(seq1, seq2))\n",
    "    similarity_score = (num_matches / seq_length)  # Calculate similarity as a percentage\n",
    "\n",
    "    return similarity_score\n"
   ]
  },
  {
   "cell_type": "code",
   "execution_count": 82,
   "id": "3a5685c1",
   "metadata": {},
   "outputs": [
    {
     "name": "stderr",
     "output_type": "stream",
     "text": [
      "  0%|                                                                                             | 0/612171 [49:27<?, ?it/s]\n"
     ]
    }
   ],
   "source": [
    "similarity_df = pd.DataFrame(\n",
    "    {'OR1': ['' for _ in range(len(sequences)*(len(sequences)-1)//2)], \n",
    "     'OR2': ['' for _ in range(len(sequences)*(len(sequences)-1)//2)]\n",
    "    }\n",
    ")\n",
    "\n",
    "    \n",
    "from tqdm import tqdm\n",
    "\n",
    "with tqdm(total=len(similarity_df)) as pbar:\n",
    "    k = 0\n",
    "    for i in range(len(sequences)):\n",
    "        OlfrA = list(sequences.keys())[i]\n",
    "        for j in range(i+1, len(sequences)):\n",
    "            OlfrB = list(sequences.keys())[j]\n",
    "            similarity = calculate_similarity(sequences[OlfrA], sequences[OlfrB])\n",
    "            similarity_df.loc[k, ['OR1','OR2', 'SeqScore']] = [OlfrA, OlfrB, similarity]\n",
    "            k += 1\n",
    "            \n",
    "    similarity_df.to_csv('./output/Olfr_sequence_similarity.csv')"
   ]
  },
  {
   "cell_type": "code",
   "execution_count": 117,
   "id": "a6bc1e66",
   "metadata": {},
   "outputs": [
    {
     "data": {
      "text/html": [
       "<div>\n",
       "<style scoped>\n",
       "    .dataframe tbody tr th:only-of-type {\n",
       "        vertical-align: middle;\n",
       "    }\n",
       "\n",
       "    .dataframe tbody tr th {\n",
       "        vertical-align: top;\n",
       "    }\n",
       "\n",
       "    .dataframe thead th {\n",
       "        text-align: right;\n",
       "    }\n",
       "</style>\n",
       "<table border=\"1\" class=\"dataframe\">\n",
       "  <thead>\n",
       "    <tr style=\"text-align: right;\">\n",
       "      <th></th>\n",
       "      <th>OR1</th>\n",
       "      <th>OR2</th>\n",
       "      <th>SeqScore</th>\n",
       "    </tr>\n",
       "  </thead>\n",
       "  <tbody>\n",
       "    <tr>\n",
       "      <th>0</th>\n",
       "      <td>Olfr101</td>\n",
       "      <td>Olfr102</td>\n",
       "      <td>0.966165</td>\n",
       "    </tr>\n",
       "    <tr>\n",
       "      <th>1</th>\n",
       "      <td>Olfr101</td>\n",
       "      <td>Olfr103</td>\n",
       "      <td>0.922932</td>\n",
       "    </tr>\n",
       "    <tr>\n",
       "      <th>2</th>\n",
       "      <td>Olfr101</td>\n",
       "      <td>Olfr109</td>\n",
       "      <td>0.802632</td>\n",
       "    </tr>\n",
       "    <tr>\n",
       "      <th>3</th>\n",
       "      <td>Olfr101</td>\n",
       "      <td>Olfr1179</td>\n",
       "      <td>0.640977</td>\n",
       "    </tr>\n",
       "    <tr>\n",
       "      <th>4</th>\n",
       "      <td>Olfr101</td>\n",
       "      <td>Olfr1180</td>\n",
       "      <td>0.637218</td>\n",
       "    </tr>\n",
       "    <tr>\n",
       "      <th>...</th>\n",
       "      <td>...</td>\n",
       "      <td>...</td>\n",
       "      <td>...</td>\n",
       "    </tr>\n",
       "    <tr>\n",
       "      <th>612166</th>\n",
       "      <td>Olfr1358</td>\n",
       "      <td>Olfr1537</td>\n",
       "      <td>0.624060</td>\n",
       "    </tr>\n",
       "    <tr>\n",
       "      <th>612167</th>\n",
       "      <td>Olfr1358</td>\n",
       "      <td>Olfr1116</td>\n",
       "      <td>0.624060</td>\n",
       "    </tr>\n",
       "    <tr>\n",
       "      <th>612168</th>\n",
       "      <td>Olfr471</td>\n",
       "      <td>Olfr1537</td>\n",
       "      <td>0.661654</td>\n",
       "    </tr>\n",
       "    <tr>\n",
       "      <th>612169</th>\n",
       "      <td>Olfr471</td>\n",
       "      <td>Olfr1116</td>\n",
       "      <td>0.622180</td>\n",
       "    </tr>\n",
       "    <tr>\n",
       "      <th>612170</th>\n",
       "      <td>Olfr1537</td>\n",
       "      <td>Olfr1116</td>\n",
       "      <td>0.607143</td>\n",
       "    </tr>\n",
       "  </tbody>\n",
       "</table>\n",
       "<p>612171 rows × 3 columns</p>\n",
       "</div>"
      ],
      "text/plain": [
       "             OR1       OR2  SeqScore\n",
       "0        Olfr101   Olfr102  0.966165\n",
       "1        Olfr101   Olfr103  0.922932\n",
       "2        Olfr101   Olfr109  0.802632\n",
       "3        Olfr101  Olfr1179  0.640977\n",
       "4        Olfr101  Olfr1180  0.637218\n",
       "...          ...       ...       ...\n",
       "612166  Olfr1358  Olfr1537  0.624060\n",
       "612167  Olfr1358  Olfr1116  0.624060\n",
       "612168   Olfr471  Olfr1537  0.661654\n",
       "612169   Olfr471  Olfr1116  0.622180\n",
       "612170  Olfr1537  Olfr1116  0.607143\n",
       "\n",
       "[612171 rows x 3 columns]"
      ]
     },
     "execution_count": 117,
     "metadata": {},
     "output_type": "execute_result"
    }
   ],
   "source": [
    "similarity_df"
   ]
  }
 ],
 "metadata": {
  "kernelspec": {
   "display_name": "Python 3 (ipykernel)",
   "language": "python",
   "name": "python3"
  },
  "language_info": {
   "codemirror_mode": {
    "name": "ipython",
    "version": 3
   },
   "file_extension": ".py",
   "mimetype": "text/x-python",
   "name": "python",
   "nbconvert_exporter": "python",
   "pygments_lexer": "ipython3",
   "version": "3.9.7"
  }
 },
 "nbformat": 4,
 "nbformat_minor": 5
}
