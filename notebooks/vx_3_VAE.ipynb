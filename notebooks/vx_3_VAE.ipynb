{
 "cells": [
  {
   "cell_type": "code",
   "execution_count": 9,
   "metadata": {},
   "outputs": [],
   "source": [
    "from IPython import display\n",
    "\n",
    "import glob\n",
    "import imageio\n",
    "import matplotlib.pyplot as plt\n",
    "import numpy as np\n",
    "import PIL\n",
    "import tensorflow as tf\n",
    "# import tensorflow_probability as tfp\n",
    "import time\n",
    "\n",
    "import numpy as np \n",
    "import pandas as pd \n",
    "import sys \n",
    "\n",
    "sys.path.insert(0, '/mnt/af3ff5c3-2943-4972-8c3a-6b98174779b7/Justice/OR_learning/utils')\n",
    "import voxel_functions as vx\n",
    "\n",
    "import random \n",
    "import plotly.graph_objects as go "
   ]
  },
  {
   "cell_type": "markdown",
   "metadata": {},
   "source": [
    "#### Loading voxels "
   ]
  },
  {
   "cell_type": "code",
   "execution_count": 2,
   "metadata": {},
   "outputs": [
    {
     "name": "stderr",
     "output_type": "stream",
     "text": [
      "100%|██████████| 5470/5470 [00:16<00:00, 330.91it/s]\n"
     ]
    }
   ],
   "source": [
    "# Depends on the resolution may take awhile\n",
    "tmaligned_df = pd.read_pickle('../../AF_files/dict_tmaligned.pkl')\n",
    "voxel_list, voxel_shape, voxel_order = vx.create_voxel(tmaligned_df, resolution = 1)"
   ]
  },
  {
   "cell_type": "code",
   "execution_count": null,
   "metadata": {},
   "outputs": [],
   "source": [
    "# Visualize random voxels \n",
    "random.seed(10)\n",
    "indice = random.sample(range(1,100), 5)\n",
    "\n",
    "fig = go.Figure()\n",
    "for i in indice:\n",
    "    pos_space = np.argwhere(np.any(voxel_list[i] != 0, axis=3))\n",
    "    fig.add_trace(go.Scatter3d(x = pos_space[:,0], \n",
    "                               y = pos_space[:,1], \n",
    "                               z = pos_space[:,2], \n",
    "                               mode = 'markers', \n",
    "                               name = voxel_order[i]))\n",
    "fig.update_traces( marker=dict(size=3, opacity = 0.1))\n",
    "fig.update_layout(scene = dict(xaxis = dict(visible= False,showbackground=False),\n",
    "                                yaxis = dict(visible= False,showbackground=False),\n",
    "                                zaxis = dict(visible= False,showbackground=False)),\n",
    "                  margin=dict(r=10, l=10, b=10, t=10))\n",
    "fig.show()"
   ]
  },
  {
   "cell_type": "markdown",
   "metadata": {},
   "source": [
    "#### VAE"
   ]
  },
  {
   "cell_type": "code",
   "execution_count": 18,
   "metadata": {},
   "outputs": [],
   "source": [
    "class CVAE(tf.keras.Model):\n",
    "    def __init__(self, input_shape, latent_dim, encoder_filters, encoder_kernels, encoder_strides,\n",
    "                 decoder_dense_shape, decoder_filters, decoder_kernels, decoder_strides):\n",
    "        super(CVAE, self).__init__()\n",
    "        self.latent_dim = latent_dim\n",
    "        self.encoder = self.build_encoder(input_shape, encoder_filters, encoder_kernels, encoder_strides, latent_dim)\n",
    "        self.decoder = self.build_decoder(latent_dim, decoder_dense_shape, decoder_filters, decoder_kernels, decoder_strides)\n",
    "\n",
    "    def build_encoder(self, input_shape, filters, kernels, strides, latent_dim):\n",
    "        layers = [tf.keras.layers.InputLayer(input_shape=input_shape)]\n",
    "        \n",
    "        for f, k, s in zip(filters, kernels, strides):\n",
    "            layers.append(tf.keras.layers.Conv3D(filters=f, kernel_size=k, strides=s, activation='relu'))\n",
    "\n",
    "        layers.append(tf.keras.layers.Flatten())\n",
    "        layers.append(tf.keras.layers.Dense(latent_dim + latent_dim))  # No activation\n",
    "        \n",
    "        return tf.keras.Sequential(layers)\n",
    "\n",
    "    def build_decoder(self, latent_dim, dense_shape, filters, kernels, strides):\n",
    "        layers = [tf.keras.layers.InputLayer(input_shape=(latent_dim,)),\n",
    "                  tf.keras.layers.Dense(units=dense_shape, activation=tf.nn.relu),\n",
    "                  tf.keras.layers.Reshape(target_shape=dense_shape)]\n",
    "\n",
    "        for f, k, s in zip(filters, kernels, strides):\n",
    "            layers.append(tf.keras.layers.Conv3DTranspose(filters=f, kernel_size=k, strides=s, padding='same', activation='relu'))\n",
    "        \n",
    "        layers.append(tf.keras.layers.Conv3DTranspose(filters=4, kernel_size=3, strides=1, padding='same'))  # No activation\n",
    "        \n",
    "        return tf.keras.Sequential(layers)\n",
    "    \n",
    "    \n",
    "    def encode(self, x):\n",
    "        mean, logvar = tf.split(self.encoder(x), num_or_size_splits=2, axis=1)\n",
    "        return mean, logvar\n",
    "    \n",
    "    def reparameterize(self, mean, logvar):\n",
    "        eps = tf.random.normal(shape=mean.shape)\n",
    "        return eps * tf.exp(logvar * .5) + mean\n",
    "    \n",
    "    def decode(self, z, apply_sigmoid=False):\n",
    "        logits = self.decoder(z)\n",
    "        if apply_sigmoid:\n",
    "            probs = tf.sigmoid(logits)\n",
    "            return probs\n",
    "        return logits\n",
    "    \n",
    "    @tf.function\n",
    "    def sample(self, z=None):\n",
    "        if z is None:\n",
    "            z = tf.random.normal(shape=(100, self.latent_dim))\n",
    "        return self.decode(z, apply_sigmoid=True)\n",
    "    \n",
    "\n",
    "def log_normal_pdf(sample, mean, logvar, raxis=1):\n",
    "    log2pi = tf.math.log(2. * np.pi)\n",
    "    return tf.reduce_sum(\n",
    "        -.5 * ((sample - mean) ** 2. * tf.exp(-logvar) + logvar + log2pi),\n",
    "        axis=raxis)\n",
    "    \n",
    "def compute_loss(model, x):\n",
    "    mean, logvar = model.encode(x)\n",
    "    z = model.reparameterize(mean, logvar)\n",
    "    x_logit = model.decode(z)\n",
    "    cross_ent = tf.nn.sigmoid_cross_entropy_with_logits(logits=x_logit, labels=x)\n",
    "    logpx_z = -tf.reduce_sum(cross_ent, axis=[1, 2, 3])\n",
    "    logpz = log_normal_pdf(z, 0., 0.)\n",
    "    logqz_x = log_normal_pdf(z, mean, logvar)\n",
    "    return -tf.reduce_mean(logpx_z + logpz - logqz_x)\n",
    "\n",
    "\n",
    "@tf.function\n",
    "def train_step(model, x, optimizer):\n",
    "    \"\"\"Executes one training step and returns the loss.\n",
    "\n",
    "    This function computes the loss and gradients, and uses the latter to\n",
    "    update the model's parameters.\n",
    "    \"\"\"\n",
    "    with tf.GradientTape() as tape:\n",
    "        loss = compute_loss(model, x)\n",
    "    gradients = tape.gradient(loss, model.trainable_variables)\n",
    "    optimizer.apply_gradients(zip(gradients, model.trainable_variables))\n",
    "    "
   ]
  },
  {
   "cell_type": "code",
   "execution_count": null,
   "metadata": {},
   "outputs": [],
   "source": [
    "# Example usage\n",
    "input_shape = (312, 282, 404, 4)\n",
    "latent_dim = 10\n",
    "encoder_filters = [32, 64]\n",
    "encoder_kernels = [3, 3]\n",
    "encoder_strides = [(2, 2, 2), (2, 2, 2)]\n",
    "decoder_dense_shape = (39, 36, 51, 32)  # Adjusted according to the encoder output\n",
    "decoder_filters = [64, 32]\n",
    "decoder_kernels = [3, 3]\n",
    "decoder_strides = [(2, 2, 2), (2, 2, 2)]\n",
    "\n",
    "model = CVAE(input_shape, latent_dim, encoder_filters, encoder_kernels, encoder_strides,\n",
    "            decoder_dense_shape, decoder_filters, decoder_kernels, decoder_strides)"
   ]
  },
  {
   "cell_type": "code",
   "execution_count": 23,
   "metadata": {},
   "outputs": [
    {
     "name": "stdout",
     "output_type": "stream",
     "text": [
      "SUCCESS: Found GPU: /device:GPU:0\n"
     ]
    },
    {
     "name": "stderr",
     "output_type": "stream",
     "text": [
      "2023-11-28 15:03:04.658535: I tensorflow/core/common_runtime/gpu/gpu_device.cc:1886] Created device /device:GPU:0 with 22296 MB memory:  -> device: 0, name: NVIDIA GeForce RTX 3090, pci bus id: 0000:03:00.0, compute capability: 8.6\n",
      "2023-11-28 15:03:04.659468: I tensorflow/core/common_runtime/gpu/gpu_device.cc:1886] Created device /device:GPU:1 with 8021 MB memory:  -> device: 1, name: NVIDIA GeForce RTX 3080, pci bus id: 0000:82:00.0, compute capability: 8.6\n",
      "2023-11-28 15:03:04.666760: I tensorflow/core/common_runtime/gpu/gpu_device.cc:1886] Created device /device:GPU:0 with 22296 MB memory:  -> device: 0, name: NVIDIA GeForce RTX 3090, pci bus id: 0000:03:00.0, compute capability: 8.6\n",
      "2023-11-28 15:03:04.667635: I tensorflow/core/common_runtime/gpu/gpu_device.cc:1886] Created device /device:GPU:1 with 8021 MB memory:  -> device: 1, name: NVIDIA GeForce RTX 3080, pci bus id: 0000:82:00.0, compute capability: 8.6\n"
     ]
    }
   ],
   "source": [
    "if tf.test.gpu_device_name() != '/device:GPU:0':\n",
    "  print('WARNING: GPU device not found.')\n",
    "else:\n",
    "  print('SUCCESS: Found GPU: {}'.format(tf.test.gpu_device_name()))"
   ]
  },
  {
   "cell_type": "code",
   "execution_count": 20,
   "metadata": {},
   "outputs": [
    {
     "data": {
      "text/plain": [
       "1568"
      ]
     },
     "execution_count": 20,
     "metadata": {},
     "output_type": "execute_result"
    }
   ],
   "source": [
    "7*7*32"
   ]
  },
  {
   "cell_type": "code",
   "execution_count": null,
   "metadata": {},
   "outputs": [],
   "source": []
  },
  {
   "cell_type": "code",
   "execution_count": null,
   "metadata": {},
   "outputs": [],
   "source": []
  },
  {
   "cell_type": "code",
   "execution_count": null,
   "metadata": {},
   "outputs": [],
   "source": []
  }
 ],
 "metadata": {
  "kernelspec": {
   "display_name": "Protein_env",
   "language": "python",
   "name": "python3"
  },
  "language_info": {
   "codemirror_mode": {
    "name": "ipython",
    "version": 3
   },
   "file_extension": ".py",
   "mimetype": "text/x-python",
   "name": "python",
   "nbconvert_exporter": "python",
   "pygments_lexer": "ipython3",
   "version": "3.11.6"
  }
 },
 "nbformat": 4,
 "nbformat_minor": 2
}
